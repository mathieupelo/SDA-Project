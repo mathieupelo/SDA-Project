{
 "cells": [
  {
   "cell_type": "code",
   "execution_count": 51,
   "id": "initial_id",
   "metadata": {
    "ExecuteTime": {
     "end_time": "2025-06-06T17:07:57.682614Z",
     "start_time": "2025-06-06T17:07:57.678774Z"
    },
    "collapsed": true
   },
   "outputs": [],
   "source": [
    "from data.solver_config import SolverConfig\n",
    "from data.stocks import Stock\n",
    "from data.portfolios import Portfolio\n",
    "from datetime import date\n",
    "from Utils.portfolio_solver import PortfolioSolver, StockSnapshot\n",
    "from cvxopt import matrix, solvers\n",
    "import numpy as np\n",
    "import pandas as pd\n",
    "\n",
    "stocks: dict[Stock, StockSnapshot] = {\n",
    "    Stock(\"AAPL\", '1', \"Apple\"): StockSnapshot(0.2, {\n",
    "        date(2014, 7, 1) : 14,\n",
    "        date(2014, 7, 2) : 16,\n",
    "        date(2014, 7, 3) : 12,\n",
    "    }),\n",
    "    Stock(\"MSFT\", '2', \"Microsoft\"): StockSnapshot(0.8, {\n",
    "        date(2014, 7, 1) : 99,\n",
    "        date(2014, 7, 2) : 1,\n",
    "        date(2014, 7, 3) : 250,\n",
    "    })\n",
    "}\n",
    "\n",
    "config = SolverConfig()\n",
    "solver = PortfolioSolver(stocks, config)\n"
   ]
  },
  {
   "cell_type": "code",
   "execution_count": 52,
   "id": "faad75625893eb9b",
   "metadata": {
    "ExecuteTime": {
     "end_time": "2025-06-06T17:07:57.700058Z",
     "start_time": "2025-06-06T17:07:57.694408Z"
    }
   },
   "outputs": [
    {
     "data": {
      "text/html": [
       "<div>\n",
       "<style scoped>\n",
       "    .dataframe tbody tr th:only-of-type {\n",
       "        vertical-align: middle;\n",
       "    }\n",
       "\n",
       "    .dataframe tbody tr th {\n",
       "        vertical-align: top;\n",
       "    }\n",
       "\n",
       "    .dataframe thead th {\n",
       "        text-align: right;\n",
       "    }\n",
       "</style>\n",
       "<table border=\"1\" class=\"dataframe\">\n",
       "  <thead>\n",
       "    <tr style=\"text-align: right;\">\n",
       "      <th></th>\n",
       "      <th>AAPL</th>\n",
       "      <th>MSFT</th>\n",
       "    </tr>\n",
       "  </thead>\n",
       "  <tbody>\n",
       "    <tr>\n",
       "      <th>2014-07-01</th>\n",
       "      <td>14</td>\n",
       "      <td>99</td>\n",
       "    </tr>\n",
       "    <tr>\n",
       "      <th>2014-07-02</th>\n",
       "      <td>16</td>\n",
       "      <td>1</td>\n",
       "    </tr>\n",
       "    <tr>\n",
       "      <th>2014-07-03</th>\n",
       "      <td>12</td>\n",
       "      <td>250</td>\n",
       "    </tr>\n",
       "  </tbody>\n",
       "</table>\n",
       "</div>"
      ],
      "text/plain": [
       "            AAPL  MSFT\n",
       "2014-07-01    14    99\n",
       "2014-07-02    16     1\n",
       "2014-07-03    12   250"
      ]
     },
     "metadata": {},
     "output_type": "display_data"
    }
   ],
   "source": [
    "stock_list = list(solver.stocks.keys())\n",
    "stock_count = len(stock_list)\n",
    "\n",
    "# === Build price table from snapshots ===\n",
    "price_data = pd.DataFrame({\n",
    "    stock.ticker: snapshot.price_history\n",
    "    for stock, snapshot in solver.stocks.items()\n",
    "})\n",
    "\n",
    "display(price_data)"
   ]
  },
  {
   "cell_type": "code",
   "execution_count": 53,
   "id": "cbdb81e14fccf9de",
   "metadata": {
    "ExecuteTime": {
     "end_time": "2025-06-06T17:07:57.731970Z",
     "start_time": "2025-06-06T17:07:57.726533Z"
    }
   },
   "outputs": [
    {
     "data": {
      "text/html": [
       "<div>\n",
       "<style scoped>\n",
       "    .dataframe tbody tr th:only-of-type {\n",
       "        vertical-align: middle;\n",
       "    }\n",
       "\n",
       "    .dataframe tbody tr th {\n",
       "        vertical-align: top;\n",
       "    }\n",
       "\n",
       "    .dataframe thead th {\n",
       "        text-align: right;\n",
       "    }\n",
       "</style>\n",
       "<table border=\"1\" class=\"dataframe\">\n",
       "  <thead>\n",
       "    <tr style=\"text-align: right;\">\n",
       "      <th></th>\n",
       "      <th>AAPL</th>\n",
       "      <th>MSFT</th>\n",
       "    </tr>\n",
       "  </thead>\n",
       "  <tbody>\n",
       "    <tr>\n",
       "      <th>2014-07-02</th>\n",
       "      <td>0.142857</td>\n",
       "      <td>-0.989899</td>\n",
       "    </tr>\n",
       "    <tr>\n",
       "      <th>2014-07-03</th>\n",
       "      <td>-0.250000</td>\n",
       "      <td>249.000000</td>\n",
       "    </tr>\n",
       "  </tbody>\n",
       "</table>\n",
       "</div>"
      ],
      "text/plain": [
       "                AAPL        MSFT\n",
       "2014-07-02  0.142857   -0.989899\n",
       "2014-07-03 -0.250000  249.000000"
      ]
     },
     "metadata": {},
     "output_type": "display_data"
    }
   ],
   "source": [
    "# === Compute daily returns ===\n",
    "var_returns = price_data.pct_change().dropna()\n",
    "display(var_returns)"
   ]
  },
  {
   "cell_type": "code",
   "execution_count": 54,
   "id": "73db53e6a775ce3f",
   "metadata": {
    "ExecuteTime": {
     "end_time": "2025-06-06T17:07:57.783202Z",
     "start_time": "2025-06-06T17:07:57.780143Z"
    }
   },
   "outputs": [
    {
     "name": "stdout",
     "output_type": "stream",
     "text": [
      "[[-5.35714286e-02]\n",
      " [ 1.24005051e+02]]\n"
     ]
    }
   ],
   "source": [
    "# === Compute expected returns (mu) ===\n",
    "mu: np.ndarray = var_returns.mean().values.reshape(-1, 1)\n",
    "print(mu)"
   ]
  },
  {
   "cell_type": "code",
   "execution_count": 55,
   "id": "a2d19114648b9f5d",
   "metadata": {
    "ExecuteTime": {
     "end_time": "2025-06-06T17:07:57.836906Z",
     "start_time": "2025-06-06T17:07:57.833066Z"
    }
   },
   "outputs": [
    {
     "name": "stdout",
     "output_type": "stream",
     "text": [
      "[[ 7.71683673e-02 -4.91051587e+01]\n",
      " [-4.91051587e+01  3.12474748e+04]]\n"
     ]
    }
   ],
   "source": [
    "# === Compute covariance matrix (sigma) ===\n",
    "sigma: np.ndarray = var_returns.cov().values\n",
    "print(sigma)"
   ]
  },
  {
   "cell_type": "code",
   "execution_count": 56,
   "id": "f6b437ba63f32acd",
   "metadata": {
    "ExecuteTime": {
     "end_time": "2025-06-06T17:07:57.853258Z",
     "start_time": "2025-06-06T17:07:57.850719Z"
    }
   },
   "outputs": [
    {
     "name": "stdout",
     "output_type": "stream",
     "text": [
      "[[0.2]\n",
      " [0.8]]\n"
     ]
    }
   ],
   "source": [
    "# === Normalize alpha scores ===\n",
    "raw_scores = np.array([solver.stocks[stock].alpha_score for stock in stock_list])\n",
    "normalized_scores = raw_scores / np.sum(raw_scores)\n",
    "alpha_scores = normalized_scores.reshape(-1, 1)\n",
    "print(alpha_scores)"
   ]
  },
  {
   "cell_type": "code",
   "execution_count": 57,
   "id": "95162a7e4555abb8",
   "metadata": {
    "ExecuteTime": {
     "end_time": "2025-06-06T17:07:57.885681Z",
     "start_time": "2025-06-06T17:07:57.882171Z"
    }
   },
   "outputs": [],
   "source": [
    "# === Optimization ===\n",
    "p = matrix(solver.config.risk_aversion * sigma)\n",
    "q = matrix(-mu - alpha_scores)\n",
    "\n",
    "g = -np.eye(stock_count)\n",
    "h = np.zeros(stock_count)\n",
    "\n",
    "a = matrix(np.ones((1, stock_count)))\n",
    "b = matrix(np.ones(1))"
   ]
  },
  {
   "cell_type": "code",
   "execution_count": 58,
   "id": "fdfdd00e19bb24cb",
   "metadata": {
    "ExecuteTime": {
     "end_time": "2025-06-06T17:07:57.900627Z",
     "start_time": "2025-06-06T17:07:57.897121Z"
    }
   },
   "outputs": [
    {
     "name": "stdout",
     "output_type": "stream",
     "text": [
      "     pcost       dcost       gap    pres   dres\n",
      " 0: -1.1682e+00 -2.1827e+00  1e+00  1e-16  2e-02\n",
      " 1: -1.1683e+00 -1.1784e+00  1e-02  2e-16  2e-04\n",
      " 2: -1.1683e+00 -1.1684e+00  1e-04  2e-16  2e-06\n",
      " 3: -1.1683e+00 -1.1683e+00  1e-06  1e-16  2e-08\n",
      "Optimal solution found.\n"
     ]
    }
   ],
   "source": [
    "sol = solvers.qp(p, q, G=matrix(g), h=matrix(h), A=a, b=b)\n",
    "weights = np.array(sol['x']).flatten()"
   ]
  },
  {
   "cell_type": "code",
   "execution_count": 59,
   "id": "6e39198cb97db2e9",
   "metadata": {
    "ExecuteTime": {
     "end_time": "2025-06-06T17:07:57.929534Z",
     "start_time": "2025-06-06T17:07:57.923415Z"
    }
   },
   "outputs": [
    {
     "data": {
      "text/html": [
       "<div>\n",
       "<style scoped>\n",
       "    .dataframe tbody tr th:only-of-type {\n",
       "        vertical-align: middle;\n",
       "    }\n",
       "\n",
       "    .dataframe tbody tr th {\n",
       "        vertical-align: top;\n",
       "    }\n",
       "\n",
       "    .dataframe thead th {\n",
       "        text-align: right;\n",
       "    }\n",
       "</style>\n",
       "<table border=\"1\" class=\"dataframe\">\n",
       "  <thead>\n",
       "    <tr style=\"text-align: right;\">\n",
       "      <th></th>\n",
       "      <th>Weight</th>\n",
       "      <th>Alpha Score</th>\n",
       "    </tr>\n",
       "  </thead>\n",
       "  <tbody>\n",
       "    <tr>\n",
       "      <th>AAPL</th>\n",
       "      <td>0.985175</td>\n",
       "      <td>0.2</td>\n",
       "    </tr>\n",
       "    <tr>\n",
       "      <th>MSFT</th>\n",
       "      <td>0.014825</td>\n",
       "      <td>0.8</td>\n",
       "    </tr>\n",
       "  </tbody>\n",
       "</table>\n",
       "</div>"
      ],
      "text/plain": [
       "        Weight  Alpha Score\n",
       "AAPL  0.985175          0.2\n",
       "MSFT  0.014825          0.8"
      ]
     },
     "metadata": {},
     "output_type": "display_data"
    }
   ],
   "source": [
    "# === Build Portfolio ===\n",
    "metadata = {\n",
    "    stock: Portfolio.StockMetadata(weight, solver.stocks[stock].alpha_score)\n",
    "    for stock, weight in zip(stock_list, weights)\n",
    "}\n",
    "\n",
    "df = pd.DataFrame({\n",
    "    stock.ticker: {'Weight': md.weight, 'Alpha Score': md.alpha_score}\n",
    "    for stock, md in metadata.items()\n",
    "}).T  # Transpose for nicer layout\n",
    "\n",
    "display(df)"
   ]
  }
 ],
 "metadata": {
  "kernelspec": {
   "display_name": "Python 3",
   "language": "python",
   "name": "python3"
  },
  "language_info": {
   "codemirror_mode": {
    "name": "ipython",
    "version": 2
   },
   "file_extension": ".py",
   "mimetype": "text/x-python",
   "name": "python",
   "nbconvert_exporter": "python",
   "pygments_lexer": "ipython2",
   "version": "2.7.6"
  }
 },
 "nbformat": 4,
 "nbformat_minor": 5
}

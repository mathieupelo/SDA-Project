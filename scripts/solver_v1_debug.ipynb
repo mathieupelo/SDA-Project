﻿{
 "cells": [
  {
   "cell_type": "code",
   "id": "initial_id",
   "metadata": {
    "collapsed": true,
    "ExecuteTime": {
     "end_time": "2025-06-06T14:20:40.042284Z",
     "start_time": "2025-06-06T14:20:38.682596Z"
    }
   },
   "source": [
    "from datetime import date\n",
    "\n",
    "import matplotlib.pyplot as plt\n",
    "from cvxopt import matrix, solvers\n",
    "from pandas import DataFrame\n",
    "from Utils.Signals import *"
   ],
   "outputs": [],
   "execution_count": 1
  },
  {
   "metadata": {
    "ExecuteTime": {
     "end_time": "2025-06-06T14:24:18.925362Z",
     "start_time": "2025-06-06T14:24:18.873753Z"
    }
   },
   "cell_type": "code",
   "source": [
    "# Let's assume we are interested in the following stocks: AAPL, MSFT, TSLA, AMZN, GOOG\n",
    "tickers = ['AAPL', 'MSFT', 'TSLA', 'AMZN', 'GOOG']\n",
    "dates = pd.date_range(start='2020-01-14', periods=3)\n",
    "\n",
    "# Download historical stock data\n",
    "data = yf.download(tickers, start='2020-01-14', end='2020-01-17')\n",
    "display(data)"
   ],
   "id": "64218fb41564bad7",
   "outputs": [
    {
     "name": "stderr",
     "output_type": "stream",
     "text": [
      "[*********************100%***********************]  5 of 5 completed\n"
     ]
    },
    {
     "data": {
      "text/plain": [
       "Price           Close                                                    High  \\\n",
       "Ticker           AAPL       AMZN       GOOG        MSFT       TSLA       AAPL   \n",
       "Date                                                                            \n",
       "2020-01-14  75.602066  93.472000  71.206726  154.481064  35.861332  76.784410   \n",
       "2020-01-15  75.278084  93.100998  71.620766  155.481537  34.566666  76.283920   \n",
       "2020-01-16  76.221039  93.897003  72.242828  158.330460  34.232666  76.332266   \n",
       "\n",
       "Price                                                    ...       Open  \\\n",
       "Ticker           AMZN       GOOG        MSFT       TSLA  ...       AAPL   \n",
       "Date                                                     ...              \n",
       "2020-01-14  94.355499  71.750150  155.881714  36.493999  ...  76.574056   \n",
       "2020-01-15  93.943001  71.729997  156.205691  35.855999  ...  75.401398   \n",
       "2020-01-16  94.279503  72.257263  158.397164  34.297333  ...  75.822091   \n",
       "\n",
       "Price                                                       Volume            \\\n",
       "Ticker           AMZN       GOOG        MSFT       TSLA       AAPL      AMZN   \n",
       "Date                                                                           \n",
       "2020-01-14  94.293999  71.611312  155.681615  36.284000  161954400  68818000   \n",
       "2020-01-15  93.612503  71.173384  154.947959  35.317333  121923600  57932000   \n",
       "2020-01-16  94.149498  72.030835  156.596331  32.916668  108829200  53190000   \n",
       "\n",
       "Price                                      \n",
       "Ticker          GOOG      MSFT       TSLA  \n",
       "Date                                       \n",
       "2020-01-14  31178000  23477400  434943000  \n",
       "2020-01-15  25654000  21417900  260532000  \n",
       "2020-01-16  23474000  23865400  326050500  \n",
       "\n",
       "[3 rows x 25 columns]"
      ],
      "text/html": [
       "<div>\n",
       "<style scoped>\n",
       "    .dataframe tbody tr th:only-of-type {\n",
       "        vertical-align: middle;\n",
       "    }\n",
       "\n",
       "    .dataframe tbody tr th {\n",
       "        vertical-align: top;\n",
       "    }\n",
       "\n",
       "    .dataframe thead tr th {\n",
       "        text-align: left;\n",
       "    }\n",
       "\n",
       "    .dataframe thead tr:last-of-type th {\n",
       "        text-align: right;\n",
       "    }\n",
       "</style>\n",
       "<table border=\"1\" class=\"dataframe\">\n",
       "  <thead>\n",
       "    <tr>\n",
       "      <th>Price</th>\n",
       "      <th colspan=\"5\" halign=\"left\">Close</th>\n",
       "      <th colspan=\"5\" halign=\"left\">High</th>\n",
       "      <th>...</th>\n",
       "      <th colspan=\"5\" halign=\"left\">Open</th>\n",
       "      <th colspan=\"5\" halign=\"left\">Volume</th>\n",
       "    </tr>\n",
       "    <tr>\n",
       "      <th>Ticker</th>\n",
       "      <th>AAPL</th>\n",
       "      <th>AMZN</th>\n",
       "      <th>GOOG</th>\n",
       "      <th>MSFT</th>\n",
       "      <th>TSLA</th>\n",
       "      <th>AAPL</th>\n",
       "      <th>AMZN</th>\n",
       "      <th>GOOG</th>\n",
       "      <th>MSFT</th>\n",
       "      <th>TSLA</th>\n",
       "      <th>...</th>\n",
       "      <th>AAPL</th>\n",
       "      <th>AMZN</th>\n",
       "      <th>GOOG</th>\n",
       "      <th>MSFT</th>\n",
       "      <th>TSLA</th>\n",
       "      <th>AAPL</th>\n",
       "      <th>AMZN</th>\n",
       "      <th>GOOG</th>\n",
       "      <th>MSFT</th>\n",
       "      <th>TSLA</th>\n",
       "    </tr>\n",
       "    <tr>\n",
       "      <th>Date</th>\n",
       "      <th></th>\n",
       "      <th></th>\n",
       "      <th></th>\n",
       "      <th></th>\n",
       "      <th></th>\n",
       "      <th></th>\n",
       "      <th></th>\n",
       "      <th></th>\n",
       "      <th></th>\n",
       "      <th></th>\n",
       "      <th></th>\n",
       "      <th></th>\n",
       "      <th></th>\n",
       "      <th></th>\n",
       "      <th></th>\n",
       "      <th></th>\n",
       "      <th></th>\n",
       "      <th></th>\n",
       "      <th></th>\n",
       "      <th></th>\n",
       "      <th></th>\n",
       "    </tr>\n",
       "  </thead>\n",
       "  <tbody>\n",
       "    <tr>\n",
       "      <th>2020-01-14</th>\n",
       "      <td>75.602066</td>\n",
       "      <td>93.472000</td>\n",
       "      <td>71.206726</td>\n",
       "      <td>154.481064</td>\n",
       "      <td>35.861332</td>\n",
       "      <td>76.784410</td>\n",
       "      <td>94.355499</td>\n",
       "      <td>71.750150</td>\n",
       "      <td>155.881714</td>\n",
       "      <td>36.493999</td>\n",
       "      <td>...</td>\n",
       "      <td>76.574056</td>\n",
       "      <td>94.293999</td>\n",
       "      <td>71.611312</td>\n",
       "      <td>155.681615</td>\n",
       "      <td>36.284000</td>\n",
       "      <td>161954400</td>\n",
       "      <td>68818000</td>\n",
       "      <td>31178000</td>\n",
       "      <td>23477400</td>\n",
       "      <td>434943000</td>\n",
       "    </tr>\n",
       "    <tr>\n",
       "      <th>2020-01-15</th>\n",
       "      <td>75.278084</td>\n",
       "      <td>93.100998</td>\n",
       "      <td>71.620766</td>\n",
       "      <td>155.481537</td>\n",
       "      <td>34.566666</td>\n",
       "      <td>76.283920</td>\n",
       "      <td>93.943001</td>\n",
       "      <td>71.729997</td>\n",
       "      <td>156.205691</td>\n",
       "      <td>35.855999</td>\n",
       "      <td>...</td>\n",
       "      <td>75.401398</td>\n",
       "      <td>93.612503</td>\n",
       "      <td>71.173384</td>\n",
       "      <td>154.947959</td>\n",
       "      <td>35.317333</td>\n",
       "      <td>121923600</td>\n",
       "      <td>57932000</td>\n",
       "      <td>25654000</td>\n",
       "      <td>21417900</td>\n",
       "      <td>260532000</td>\n",
       "    </tr>\n",
       "    <tr>\n",
       "      <th>2020-01-16</th>\n",
       "      <td>76.221039</td>\n",
       "      <td>93.897003</td>\n",
       "      <td>72.242828</td>\n",
       "      <td>158.330460</td>\n",
       "      <td>34.232666</td>\n",
       "      <td>76.332266</td>\n",
       "      <td>94.279503</td>\n",
       "      <td>72.257263</td>\n",
       "      <td>158.397164</td>\n",
       "      <td>34.297333</td>\n",
       "      <td>...</td>\n",
       "      <td>75.822091</td>\n",
       "      <td>94.149498</td>\n",
       "      <td>72.030835</td>\n",
       "      <td>156.596331</td>\n",
       "      <td>32.916668</td>\n",
       "      <td>108829200</td>\n",
       "      <td>53190000</td>\n",
       "      <td>23474000</td>\n",
       "      <td>23865400</td>\n",
       "      <td>326050500</td>\n",
       "    </tr>\n",
       "  </tbody>\n",
       "</table>\n",
       "<p>3 rows × 25 columns</p>\n",
       "</div>"
      ]
     },
     "metadata": {},
     "output_type": "display_data"
    }
   ],
   "execution_count": 18
  },
  {
   "metadata": {
    "ExecuteTime": {
     "end_time": "2025-06-06T14:24:23.728292Z",
     "start_time": "2025-06-06T14:24:23.721353Z"
    }
   },
   "cell_type": "code",
   "source": [
    "# Compute historical daily returns\n",
    "var_returns = data['Close'].pct_change().dropna()\n",
    "display(var_returns)"
   ],
   "id": "eff2fba4d560e37",
   "outputs": [
    {
     "data": {
      "text/plain": [
       "Ticker          AAPL      AMZN      GOOG      MSFT      TSLA\n",
       "Date                                                        \n",
       "2020-01-15 -0.004285 -0.003969  0.005815  0.006476 -0.036102\n",
       "2020-01-16  0.012526  0.008550  0.008686  0.018323 -0.009662"
      ],
      "text/html": [
       "<div>\n",
       "<style scoped>\n",
       "    .dataframe tbody tr th:only-of-type {\n",
       "        vertical-align: middle;\n",
       "    }\n",
       "\n",
       "    .dataframe tbody tr th {\n",
       "        vertical-align: top;\n",
       "    }\n",
       "\n",
       "    .dataframe thead th {\n",
       "        text-align: right;\n",
       "    }\n",
       "</style>\n",
       "<table border=\"1\" class=\"dataframe\">\n",
       "  <thead>\n",
       "    <tr style=\"text-align: right;\">\n",
       "      <th>Ticker</th>\n",
       "      <th>AAPL</th>\n",
       "      <th>AMZN</th>\n",
       "      <th>GOOG</th>\n",
       "      <th>MSFT</th>\n",
       "      <th>TSLA</th>\n",
       "    </tr>\n",
       "    <tr>\n",
       "      <th>Date</th>\n",
       "      <th></th>\n",
       "      <th></th>\n",
       "      <th></th>\n",
       "      <th></th>\n",
       "      <th></th>\n",
       "    </tr>\n",
       "  </thead>\n",
       "  <tbody>\n",
       "    <tr>\n",
       "      <th>2020-01-15</th>\n",
       "      <td>-0.004285</td>\n",
       "      <td>-0.003969</td>\n",
       "      <td>0.005815</td>\n",
       "      <td>0.006476</td>\n",
       "      <td>-0.036102</td>\n",
       "    </tr>\n",
       "    <tr>\n",
       "      <th>2020-01-16</th>\n",
       "      <td>0.012526</td>\n",
       "      <td>0.008550</td>\n",
       "      <td>0.008686</td>\n",
       "      <td>0.018323</td>\n",
       "      <td>-0.009662</td>\n",
       "    </tr>\n",
       "  </tbody>\n",
       "</table>\n",
       "</div>"
      ]
     },
     "metadata": {},
     "output_type": "display_data"
    }
   ],
   "execution_count": 19
  },
  {
   "metadata": {
    "ExecuteTime": {
     "end_time": "2025-06-06T15:57:32.565253Z",
     "start_time": "2025-06-06T15:57:32.562106Z"
    }
   },
   "cell_type": "code",
   "source": [
    "# Expected returns (mean of past returns)\n",
    "mu = var_returns.mean().values.reshape(-1, 1)\n",
    "print(mu)"
   ],
   "id": "f764af0f9c0578b0",
   "outputs": [
    {
     "name": "stdout",
     "output_type": "stream",
     "text": [
      "[[ 0.00412046]\n",
      " [ 0.00229039]\n",
      " [ 0.00725006]\n",
      " [ 0.01239978]\n",
      " [-0.02288225]]\n"
     ]
    }
   ],
   "execution_count": 42
  },
  {
   "metadata": {
    "ExecuteTime": {
     "end_time": "2025-06-06T15:57:33.692179Z",
     "start_time": "2025-06-06T15:57:33.689175Z"
    }
   },
   "cell_type": "code",
   "source": [
    "# Compute covariance matrix\n",
    "Sigma = var_returns.cov().values\n",
    "print(Sigma)"
   ],
   "id": "22fd60f7e6634965",
   "outputs": [
    {
     "name": "stdout",
     "output_type": "stream",
     "text": [
      "[[1.41315805e-04 1.05232845e-04 2.41322298e-05 9.95827622e-05\n",
      "  2.22246125e-04]\n",
      " [1.05232845e-04 7.83631509e-05 1.79704118e-05 7.41557352e-05\n",
      "  1.65498772e-04]\n",
      " [2.41322298e-05 1.79704118e-05 4.12101475e-06 1.70055579e-05\n",
      "  3.79525459e-05]\n",
      " [9.95827622e-05 7.41557352e-05 1.70055579e-05 7.01742209e-05\n",
      "  1.56612935e-04]\n",
      " [2.22246125e-04 1.65498772e-04 3.79525459e-05 1.56612935e-04\n",
      "  3.49524529e-04]]\n"
     ]
    }
   ],
   "execution_count": 43
  },
  {
   "metadata": {
    "ExecuteTime": {
     "end_time": "2025-06-06T15:58:02.030347Z",
     "start_time": "2025-06-06T15:58:02.027339Z"
    }
   },
   "cell_type": "code",
   "source": [
    "alpha_scores = [ 0.5, 0.5, 0.5, 0.5, 0.5 ]\n",
    "print(alpha_scores)"
   ],
   "id": "2114531a2a87d7ee",
   "outputs": [
    {
     "name": "stdout",
     "output_type": "stream",
     "text": [
      "[0.5, 0.5, 0.5, 0.5, 0.5]\n"
     ]
    }
   ],
   "execution_count": 45
  },
  {
   "metadata": {
    "ExecuteTime": {
     "end_time": "2025-06-06T15:59:08.133686Z",
     "start_time": "2025-06-06T15:59:08.130623Z"
    }
   },
   "cell_type": "code",
   "source": [
    "n_assets = 5\n",
    "\n",
    "# Quadratic term (Risk component: λ * w'Σw)\n",
    "P = matrix(0.3 * Sigma)\n",
    "\n",
    "# Normalize signal scores\n",
    "normalized_scores = alpha_scores / np.sum(alpha_scores)\n",
    "\n",
    "# Linear term (maximize return + signal influence)\n",
    "q = matrix(-mu - normalized_scores.reshape(-1, 1))\n",
    "print(q)"
   ],
   "id": "bd66cda7c5936b50",
   "outputs": [
    {
     "name": "stdout",
     "output_type": "stream",
     "text": [
      "[-2.04e-01]\n",
      "[-2.02e-01]\n",
      "[-2.07e-01]\n",
      "[-2.12e-01]\n",
      "[-1.77e-01]\n",
      "\n"
     ]
    }
   ],
   "execution_count": 48
  },
  {
   "metadata": {
    "ExecuteTime": {
     "end_time": "2025-06-06T15:59:09.229872Z",
     "start_time": "2025-06-06T15:59:09.223824Z"
    }
   },
   "cell_type": "code",
   "source": [
    "# Constraints\n",
    "G = -np.eye(n_assets)   # Only non-negative weights constraint\n",
    "h = np.zeros(n_assets)  # w ≥ 0\n",
    "\n",
    "# Full investment constraint: sum(w) = 1\n",
    "A = matrix(np.ones((1, n_assets)))\n",
    "b = matrix(np.ones(1))\n",
    "\n",
    "# Solve quadratic optimization problem\n",
    "sol = solvers.qp(P, q, G=matrix(G), h=matrix(h), A=A, b=b)\n",
    "\n",
    "# Extract portfolio weights\n",
    "weights = np.array(sol['x']).flatten()"
   ],
   "id": "39513891e15e966a",
   "outputs": [
    {
     "name": "stdout",
     "output_type": "stream",
     "text": [
      "     pcost       dcost       gap    pres   dres\n",
      " 0: -2.0137e-01 -1.2124e+00  1e+00  1e-16  3e+00\n",
      " 1: -2.0164e-01 -2.2239e-01  2e-02  5e-17  6e-02\n",
      " 2: -2.0717e-01 -2.1249e-01  5e-03  7e-17  1e-02\n",
      " 3: -2.1207e-01 -2.1285e-01  8e-04  3e-16  5e-17\n",
      " 4: -2.1239e-01 -2.1239e-01  8e-06  2e-16  5e-17\n",
      " 5: -2.1239e-01 -2.1239e-01  8e-08  1e-16  4e-17\n",
      "Optimal solution found.\n"
     ]
    }
   ],
   "execution_count": 49
  }
 ],
 "metadata": {
  "kernelspec": {
   "display_name": "Python 3",
   "language": "python",
   "name": "python3"
  },
  "language_info": {
   "codemirror_mode": {
    "name": "ipython",
    "version": 2
   },
   "file_extension": ".py",
   "mimetype": "text/x-python",
   "name": "python",
   "nbconvert_exporter": "python",
   "pygments_lexer": "ipython2",
   "version": "2.7.6"
  }
 },
 "nbformat": 4,
 "nbformat_minor": 5
}

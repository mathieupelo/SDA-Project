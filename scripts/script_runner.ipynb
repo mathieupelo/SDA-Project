﻿{
 "cells": [
  {
   "cell_type": "code",
   "id": "initial_id",
   "metadata": {
    "collapsed": true,
    "ExecuteTime": {
     "end_time": "2025-06-06T23:28:46.569165Z",
     "start_time": "2025-06-06T23:28:46.547578Z"
    }
   },
   "source": [
    "from datetime import date\n",
    "\n",
    "from rich.jupyter import display\n",
    "\n",
    "from data.api import API\n",
    "\n",
    "api = API('localhost')\n",
    "tickers = ['AAPL', 'MSFT', 'SONY', 'AMZN', 'GOOG']\n",
    "tickers = ['MSFT', 'SONY']\n",
    "\n",
    "api.ensure_database_is_up_to_date()"
   ],
   "outputs": [],
   "execution_count": 2
  },
  {
   "metadata": {},
   "cell_type": "code",
   "source": "",
   "id": "5dc1f8fcddbf68c6",
   "outputs": [],
   "execution_count": null
  },
  {
   "metadata": {},
   "cell_type": "code",
   "source": "",
   "id": "28065bf64535bdc0",
   "outputs": [],
   "execution_count": null
  }
 ],
 "metadata": {
  "kernelspec": {
   "display_name": "Python 3",
   "language": "python",
   "name": "python3"
  },
  "language_info": {
   "codemirror_mode": {
    "name": "ipython",
    "version": 2
   },
   "file_extension": ".py",
   "mimetype": "text/x-python",
   "name": "python",
   "nbconvert_exporter": "python",
   "pygments_lexer": "ipython2",
   "version": "2.7.6"
  }
 },
 "nbformat": 4,
 "nbformat_minor": 5
}

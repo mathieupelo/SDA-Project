﻿{
 "cells": [
  {
   "cell_type": "code",
   "id": "initial_id",
   "metadata": {
    "collapsed": true,
    "ExecuteTime": {
     "end_time": "2025-06-06T21:04:20.054350Z",
     "start_time": "2025-06-06T21:04:18.131986Z"
    }
   },
   "source": [
    "from datetime import date\n",
    "from data.api import API\n",
    "\n",
    "api = API('localhost')\n",
    "tickers = ['AAPL', 'MSFT', 'TSLA', 'AMZN', 'GOOG']\n",
    "price_history = api.get_price_history(tickers, date(2015, 1, 1), date(2016, 1, 1))\n"
   ],
   "outputs": [
    {
     "name": "stdout",
     "output_type": "stream",
     "text": [
      "YF.download() has changed argument auto_adjust default to True\n"
     ]
    }
   ],
   "execution_count": 1
  },
  {
   "metadata": {},
   "cell_type": "code",
   "source": "",
   "id": "5dc1f8fcddbf68c6",
   "outputs": [],
   "execution_count": null
  }
 ],
 "metadata": {
  "kernelspec": {
   "display_name": "Python 3",
   "language": "python",
   "name": "python3"
  },
  "language_info": {
   "codemirror_mode": {
    "name": "ipython",
    "version": 2
   },
   "file_extension": ".py",
   "mimetype": "text/x-python",
   "name": "python",
   "nbconvert_exporter": "python",
   "pygments_lexer": "ipython2",
   "version": "2.7.6"
  }
 },
 "nbformat": 4,
 "nbformat_minor": 5
}

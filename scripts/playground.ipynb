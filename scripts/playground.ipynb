﻿{
 "cells": [
  {
   "cell_type": "code",
   "id": "initial_id",
   "metadata": {
    "collapsed": true,
    "ExecuteTime": {
     "end_time": "2025-06-04T21:33:48.553012Z",
     "start_time": "2025-06-04T21:33:48.539189Z"
    }
   },
   "source": [
    "from data.stocks import *\n",
    "from data.utils import *\n",
    "\n",
    "stock_id = '039c0fe9-59f8-4993-9f75-cb388758109f'\n",
    "conn = connect_to_database('192.168.0.165')\n",
    "table = get_stock_price_table(conn, stock_id, '2010-01-01', '2015-12-31')\n",
    "price = get_stock_price(conn, stock_id, '2010-01-06')\n",
    "\n",
    "print(price)\n",
    "display(table)"
   ],
   "outputs": [
    {
     "name": "stdout",
     "output_type": "stream",
     "text": [
      "240.56\n"
     ]
    },
    {
     "data": {
      "text/plain": [
       "            date close_price\n",
       "0     2010-01-04      234.48\n",
       "1     2010-01-05      234.22\n",
       "2     2010-01-06      240.56\n",
       "3     2010-01-07      239.24\n",
       "4     2010-01-08      241.35\n",
       "...          ...         ...\n",
       "1464  2015-12-24      762.17\n",
       "1465  2015-12-25      762.17\n",
       "1466  2015-12-28      761.87\n",
       "1467  2015-12-29      770.84\n",
       "1468  2015-12-30      766.65\n",
       "\n",
       "[1469 rows x 2 columns]"
      ],
      "text/html": [
       "<div>\n",
       "<style scoped>\n",
       "    .dataframe tbody tr th:only-of-type {\n",
       "        vertical-align: middle;\n",
       "    }\n",
       "\n",
       "    .dataframe tbody tr th {\n",
       "        vertical-align: top;\n",
       "    }\n",
       "\n",
       "    .dataframe thead th {\n",
       "        text-align: right;\n",
       "    }\n",
       "</style>\n",
       "<table border=\"1\" class=\"dataframe\">\n",
       "  <thead>\n",
       "    <tr style=\"text-align: right;\">\n",
       "      <th></th>\n",
       "      <th>date</th>\n",
       "      <th>close_price</th>\n",
       "    </tr>\n",
       "  </thead>\n",
       "  <tbody>\n",
       "    <tr>\n",
       "      <th>0</th>\n",
       "      <td>2010-01-04</td>\n",
       "      <td>234.48</td>\n",
       "    </tr>\n",
       "    <tr>\n",
       "      <th>1</th>\n",
       "      <td>2010-01-05</td>\n",
       "      <td>234.22</td>\n",
       "    </tr>\n",
       "    <tr>\n",
       "      <th>2</th>\n",
       "      <td>2010-01-06</td>\n",
       "      <td>240.56</td>\n",
       "    </tr>\n",
       "    <tr>\n",
       "      <th>3</th>\n",
       "      <td>2010-01-07</td>\n",
       "      <td>239.24</td>\n",
       "    </tr>\n",
       "    <tr>\n",
       "      <th>4</th>\n",
       "      <td>2010-01-08</td>\n",
       "      <td>241.35</td>\n",
       "    </tr>\n",
       "    <tr>\n",
       "      <th>...</th>\n",
       "      <td>...</td>\n",
       "      <td>...</td>\n",
       "    </tr>\n",
       "    <tr>\n",
       "      <th>1464</th>\n",
       "      <td>2015-12-24</td>\n",
       "      <td>762.17</td>\n",
       "    </tr>\n",
       "    <tr>\n",
       "      <th>1465</th>\n",
       "      <td>2015-12-25</td>\n",
       "      <td>762.17</td>\n",
       "    </tr>\n",
       "    <tr>\n",
       "      <th>1466</th>\n",
       "      <td>2015-12-28</td>\n",
       "      <td>761.87</td>\n",
       "    </tr>\n",
       "    <tr>\n",
       "      <th>1467</th>\n",
       "      <td>2015-12-29</td>\n",
       "      <td>770.84</td>\n",
       "    </tr>\n",
       "    <tr>\n",
       "      <th>1468</th>\n",
       "      <td>2015-12-30</td>\n",
       "      <td>766.65</td>\n",
       "    </tr>\n",
       "  </tbody>\n",
       "</table>\n",
       "<p>1469 rows × 2 columns</p>\n",
       "</div>"
      ]
     },
     "metadata": {},
     "output_type": "display_data"
    }
   ],
   "execution_count": 7
  },
  {
   "metadata": {},
   "cell_type": "code",
   "source": [
    "# Download and store historical stock data\n",
    "from scripts.fetch_price import *\n",
    "\n",
    "host = '192.168.0.165'\n",
    "fetch_prices(host)"
   ],
   "id": "c3fd927f7418b371",
   "outputs": [],
   "execution_count": null
  }
 ],
 "metadata": {
  "kernelspec": {
   "display_name": "Python 3",
   "language": "python",
   "name": "python3"
  },
  "language_info": {
   "codemirror_mode": {
    "name": "ipython",
    "version": 2
   },
   "file_extension": ".py",
   "mimetype": "text/x-python",
   "name": "python",
   "nbconvert_exporter": "python",
   "pygments_lexer": "ipython2",
   "version": "2.7.6"
  }
 },
 "nbformat": 4,
 "nbformat_minor": 5
}

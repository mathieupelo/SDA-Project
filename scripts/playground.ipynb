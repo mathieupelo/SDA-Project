﻿{
 "cells": [
  {
   "cell_type": "code",
   "id": "initial_id",
   "metadata": {
    "collapsed": true,
    "ExecuteTime": {
     "end_time": "2025-06-04T20:55:44.473940Z",
     "start_time": "2025-06-04T20:55:42.006411Z"
    }
   },
   "source": [
    "from scripts.fetch_stock import *\n",
    "\n",
    "host = '192.168.0.165'\n",
    "tickers = [\n",
    "    \"3659.T\",     # Nexon\n",
    "    \"PDX.ST\",     # Paradox Interactive\n",
    "    \"259960.KQ\",  # KRAFTON\n",
    "    \"036570.KS\",  # NCSoft\n",
    "    \"FDEV.L\",     # Frontier Developments\n",
    "    \"REMEDY.HE\",  # Remedy Entertainment\n",
    "    \"NACON.PA\",   # Nacon\n",
    "    \"SF.ST\",      # Stillfront Group\n",
    "]\n",
    "\n",
    "fetch_stocks(tickers, host)"
   ],
   "outputs": [
    {
     "name": "stdout",
     "output_type": "stream",
     "text": [
      "⚠️  Skipping 259960.KQ - NOT FOUND\n"
     ]
    }
   ],
   "execution_count": 1
  },
  {
   "metadata": {
    "ExecuteTime": {
     "end_time": "2025-06-04T20:58:01.890730Z",
     "start_time": "2025-06-04T20:57:06.151843Z"
    }
   },
   "cell_type": "code",
   "source": [
    "# Download and store historical stock data\n",
    "from scripts.fetch_price import *\n",
    "\n",
    "host = '192.168.0.165'\n",
    "fetch_prices(host)"
   ],
   "id": "c3fd927f7418b371",
   "outputs": [
    {
     "name": "stdout",
     "output_type": "stream",
     "text": [
      "YF.download() has changed argument auto_adjust default to True\n"
     ]
    },
    {
     "name": "stderr",
     "output_type": "stream",
     "text": [
      "[*********************100%***********************]  1 of 1 completed\n",
      "[*********************100%***********************]  1 of 1 completed\n",
      "[*********************100%***********************]  1 of 1 completed\n",
      "[*********************100%***********************]  1 of 1 completed\n",
      "[*********************100%***********************]  1 of 1 completed\n",
      "[*********************100%***********************]  1 of 1 completed\n",
      "[*********************100%***********************]  1 of 1 completed\n",
      "[*********************100%***********************]  1 of 1 completed\n",
      "[*********************100%***********************]  1 of 1 completed\n",
      "[*********************100%***********************]  1 of 1 completed\n",
      "[*********************100%***********************]  1 of 1 completed\n",
      "[*********************100%***********************]  1 of 1 completed\n",
      "[*********************100%***********************]  1 of 1 completed\n",
      "[*********************100%***********************]  1 of 1 completed\n",
      "[*********************100%***********************]  1 of 1 completed\n",
      "[*********************100%***********************]  1 of 1 completed\n",
      "[*********************100%***********************]  1 of 1 completed\n",
      "[*********************100%***********************]  1 of 1 completed\n",
      "[*********************100%***********************]  1 of 1 completed\n",
      "[*********************100%***********************]  1 of 1 completed\n"
     ]
    }
   ],
   "execution_count": 2
  }
 ],
 "metadata": {
  "kernelspec": {
   "display_name": "Python 3",
   "language": "python",
   "name": "python3"
  },
  "language_info": {
   "codemirror_mode": {
    "name": "ipython",
    "version": 2
   },
   "file_extension": ".py",
   "mimetype": "text/x-python",
   "name": "python",
   "nbconvert_exporter": "python",
   "pygments_lexer": "ipython2",
   "version": "2.7.6"
  }
 },
 "nbformat": 4,
 "nbformat_minor": 5
}

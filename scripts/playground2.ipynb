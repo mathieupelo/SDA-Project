﻿{
 "cells": [
  {
   "cell_type": "code",
   "id": "initial_id",
   "metadata": {
    "collapsed": true,
    "ExecuteTime": {
     "end_time": "2025-06-05T21:24:56.884700Z",
     "start_time": "2025-06-05T21:24:56.007307Z"
    }
   },
   "source": [
    "from datetime import date\n",
    "\n",
    "import matplotlib.pyplot as plt\n",
    "from cvxopt import matrix, solvers\n",
    "from pandas import DataFrame\n",
    "from Utils.Signals import *"
   ],
   "outputs": [],
   "execution_count": 1
  },
  {
   "metadata": {
    "ExecuteTime": {
     "end_time": "2025-06-05T21:24:57.430809Z",
     "start_time": "2025-06-05T21:24:56.975541Z"
    }
   },
   "cell_type": "code",
   "source": [
    "# Let's assume we are interested in the following stocks: AAPL, MSFT, TSLA, AMZN, GOOG\n",
    "tickers = ['AAPL', 'MSFT', 'TSLA', 'AMZN', 'GOOG']\n",
    "\n",
    "# Download historical stock data\n",
    "data = yf.download(tickers, start='2020-01-01', end='2025-01-01')"
   ],
   "id": "64218fb41564bad7",
   "outputs": [
    {
     "name": "stdout",
     "output_type": "stream",
     "text": [
      "YF.download() has changed argument auto_adjust default to True\n"
     ]
    },
    {
     "name": "stderr",
     "output_type": "stream",
     "text": [
      "[*********************100%***********************]  5 of 5 completed\n"
     ]
    }
   ],
   "execution_count": 2
  },
  {
   "metadata": {
    "ExecuteTime": {
     "end_time": "2025-06-05T21:24:58.765949Z",
     "start_time": "2025-06-05T21:24:58.755555Z"
    }
   },
   "cell_type": "code",
   "source": [
    "# Compute historical daily returns\n",
    "var_returns = data['Close'].pct_change().dropna()\n",
    "display(var_returns)"
   ],
   "id": "eff2fba4d560e37",
   "outputs": [
    {
     "data": {
      "text/plain": [
       "Ticker          AAPL      AMZN      GOOG      MSFT      TSLA\n",
       "Date                                                        \n",
       "2020-01-03 -0.009722 -0.012139 -0.004907 -0.012452  0.029633\n",
       "2020-01-06  0.007968  0.014886  0.024657  0.002584  0.019255\n",
       "2020-01-07 -0.004703  0.002092 -0.000624 -0.009118  0.038801\n",
       "2020-01-08  0.016086 -0.007809  0.007881  0.015928  0.049205\n",
       "2020-01-09  0.021241  0.004799  0.011044  0.012493 -0.021945\n",
       "...              ...       ...       ...       ...       ...\n",
       "2024-12-24  0.011478  0.017729  0.008062  0.009374  0.073572\n",
       "2024-12-26  0.003176 -0.008732 -0.002379 -0.002777 -0.017630\n",
       "2024-12-27 -0.013242 -0.014534 -0.015525 -0.017302 -0.049479\n",
       "2024-12-30 -0.013263 -0.010950 -0.006957 -0.013240 -0.033012\n",
       "2024-12-31 -0.007058 -0.008631 -0.011677 -0.007838 -0.032510\n",
       "\n",
       "[1257 rows x 5 columns]"
      ],
      "text/html": [
       "<div>\n",
       "<style scoped>\n",
       "    .dataframe tbody tr th:only-of-type {\n",
       "        vertical-align: middle;\n",
       "    }\n",
       "\n",
       "    .dataframe tbody tr th {\n",
       "        vertical-align: top;\n",
       "    }\n",
       "\n",
       "    .dataframe thead th {\n",
       "        text-align: right;\n",
       "    }\n",
       "</style>\n",
       "<table border=\"1\" class=\"dataframe\">\n",
       "  <thead>\n",
       "    <tr style=\"text-align: right;\">\n",
       "      <th>Ticker</th>\n",
       "      <th>AAPL</th>\n",
       "      <th>AMZN</th>\n",
       "      <th>GOOG</th>\n",
       "      <th>MSFT</th>\n",
       "      <th>TSLA</th>\n",
       "    </tr>\n",
       "    <tr>\n",
       "      <th>Date</th>\n",
       "      <th></th>\n",
       "      <th></th>\n",
       "      <th></th>\n",
       "      <th></th>\n",
       "      <th></th>\n",
       "    </tr>\n",
       "  </thead>\n",
       "  <tbody>\n",
       "    <tr>\n",
       "      <th>2020-01-03</th>\n",
       "      <td>-0.009722</td>\n",
       "      <td>-0.012139</td>\n",
       "      <td>-0.004907</td>\n",
       "      <td>-0.012452</td>\n",
       "      <td>0.029633</td>\n",
       "    </tr>\n",
       "    <tr>\n",
       "      <th>2020-01-06</th>\n",
       "      <td>0.007968</td>\n",
       "      <td>0.014886</td>\n",
       "      <td>0.024657</td>\n",
       "      <td>0.002584</td>\n",
       "      <td>0.019255</td>\n",
       "    </tr>\n",
       "    <tr>\n",
       "      <th>2020-01-07</th>\n",
       "      <td>-0.004703</td>\n",
       "      <td>0.002092</td>\n",
       "      <td>-0.000624</td>\n",
       "      <td>-0.009118</td>\n",
       "      <td>0.038801</td>\n",
       "    </tr>\n",
       "    <tr>\n",
       "      <th>2020-01-08</th>\n",
       "      <td>0.016086</td>\n",
       "      <td>-0.007809</td>\n",
       "      <td>0.007881</td>\n",
       "      <td>0.015928</td>\n",
       "      <td>0.049205</td>\n",
       "    </tr>\n",
       "    <tr>\n",
       "      <th>2020-01-09</th>\n",
       "      <td>0.021241</td>\n",
       "      <td>0.004799</td>\n",
       "      <td>0.011044</td>\n",
       "      <td>0.012493</td>\n",
       "      <td>-0.021945</td>\n",
       "    </tr>\n",
       "    <tr>\n",
       "      <th>...</th>\n",
       "      <td>...</td>\n",
       "      <td>...</td>\n",
       "      <td>...</td>\n",
       "      <td>...</td>\n",
       "      <td>...</td>\n",
       "    </tr>\n",
       "    <tr>\n",
       "      <th>2024-12-24</th>\n",
       "      <td>0.011478</td>\n",
       "      <td>0.017729</td>\n",
       "      <td>0.008062</td>\n",
       "      <td>0.009374</td>\n",
       "      <td>0.073572</td>\n",
       "    </tr>\n",
       "    <tr>\n",
       "      <th>2024-12-26</th>\n",
       "      <td>0.003176</td>\n",
       "      <td>-0.008732</td>\n",
       "      <td>-0.002379</td>\n",
       "      <td>-0.002777</td>\n",
       "      <td>-0.017630</td>\n",
       "    </tr>\n",
       "    <tr>\n",
       "      <th>2024-12-27</th>\n",
       "      <td>-0.013242</td>\n",
       "      <td>-0.014534</td>\n",
       "      <td>-0.015525</td>\n",
       "      <td>-0.017302</td>\n",
       "      <td>-0.049479</td>\n",
       "    </tr>\n",
       "    <tr>\n",
       "      <th>2024-12-30</th>\n",
       "      <td>-0.013263</td>\n",
       "      <td>-0.010950</td>\n",
       "      <td>-0.006957</td>\n",
       "      <td>-0.013240</td>\n",
       "      <td>-0.033012</td>\n",
       "    </tr>\n",
       "    <tr>\n",
       "      <th>2024-12-31</th>\n",
       "      <td>-0.007058</td>\n",
       "      <td>-0.008631</td>\n",
       "      <td>-0.011677</td>\n",
       "      <td>-0.007838</td>\n",
       "      <td>-0.032510</td>\n",
       "    </tr>\n",
       "  </tbody>\n",
       "</table>\n",
       "<p>1257 rows × 5 columns</p>\n",
       "</div>"
      ]
     },
     "metadata": {},
     "output_type": "display_data"
    }
   ],
   "execution_count": 3
  },
  {
   "metadata": {
    "ExecuteTime": {
     "end_time": "2025-06-05T21:25:43.961862Z",
     "start_time": "2025-06-05T21:25:43.958359Z"
    }
   },
   "cell_type": "code",
   "source": [
    "# Expected returns (mean of past returns)\n",
    "mu = var_returns.mean().values.reshape(-1, 1)\n",
    "print(mu)"
   ],
   "id": "f764af0f9c0578b0",
   "outputs": [
    {
     "name": "stdout",
     "output_type": "stream",
     "text": [
      "[[0.00118211]\n",
      " [0.00092325]\n",
      " [0.00102632]\n",
      " [0.00098782]\n",
      " [0.00299741]]\n"
     ]
    }
   ],
   "execution_count": 5
  },
  {
   "metadata": {
    "ExecuteTime": {
     "end_time": "2025-06-05T21:25:57.040313Z",
     "start_time": "2025-06-05T21:25:57.037306Z"
    }
   },
   "cell_type": "code",
   "source": [
    "# Compute covariance matrix\n",
    "Sigma = var_returns.cov().values\n",
    "print(Sigma)"
   ],
   "id": "22fd60f7e6634965",
   "outputs": [
    {
     "name": "stdout",
     "output_type": "stream",
     "text": [
      "[[0.00039823 0.00026773 0.0002637  0.00028689 0.00040766]\n",
      " [0.00026773 0.00051326 0.00030091 0.00029531 0.00041476]\n",
      " [0.0002637  0.00030091 0.00041618 0.00029142 0.00034553]\n",
      " [0.00028689 0.00029531 0.00029142 0.00036908 0.00036301]\n",
      " [0.00040766 0.00041476 0.00034553 0.00036301 0.00179101]]\n"
     ]
    }
   ],
   "execution_count": 7
  },
  {
   "metadata": {},
   "cell_type": "code",
   "outputs": [],
   "execution_count": null,
   "source": [
    "from data.stock_snapshot import generate_snapshots\n",
    "from data.utils import connect_to_database\n",
    "from data.stocks import get_stocks, get_stock_price_table\n",
    "\n",
    "start_date = date(2019, 1, 1)\n",
    "end_date = date(2019, 1, 5)\n",
    "conn = connect_to_database('192.168.0.165')\n",
    "stocks = get_stocks(conn)\n",
    "ticker_to_stock = {stock.ticker: stock for stock in stocks}\n",
    "alpha_values = { } # TODO: PASS YOURS HERE\n",
    "\n",
    "# fetch price history in db\n",
    "price_histories: dict[str, dict[date, float]] = { }\n",
    "\n",
    "for stock in stocks:\n",
    "    history = get_stock_price_table(\n",
    "        conn=conn,\n",
    "        stock_id=stock.id,\n",
    "        start=start_date,\n",
    "        end=end_date\n",
    "    )\n",
    "\n",
    "    if not history:\n",
    "        # TODO: YOU CAN DEFAULT TO YAHOO FINANCE HERE !\n",
    "        continue\n",
    "\n",
    "    price_histories[stock.ticker] = history\n",
    "\n",
    "snapshots = generate_snapshots(alpha_values, ticker_to_stock, price_histories)"
   ],
   "id": "b9a1a089d0d2ed98"
  }
 ],
 "metadata": {
  "kernelspec": {
   "display_name": "Python 3",
   "language": "python",
   "name": "python3"
  },
  "language_info": {
   "codemirror_mode": {
    "name": "ipython",
    "version": 2
   },
   "file_extension": ".py",
   "mimetype": "text/x-python",
   "name": "python",
   "nbconvert_exporter": "python",
   "pygments_lexer": "ipython2",
   "version": "2.7.6"
  }
 },
 "nbformat": 4,
 "nbformat_minor": 5
}

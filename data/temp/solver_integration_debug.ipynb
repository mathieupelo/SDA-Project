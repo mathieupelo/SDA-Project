﻿{
 "cells": [
  {
   "cell_type": "code",
   "id": "initial_id",
   "metadata": {
    "collapsed": true,
    "ExecuteTime": {
     "end_time": "2025-06-06T17:07:26.612885Z",
     "start_time": "2025-06-06T17:07:26.608865Z"
    }
   },
   "source": [
    "from data.solver_config import SolverConfig\n",
    "from data.stocks import Stock\n",
    "from datetime import date\n",
    "from Utils.portfolio_solver import PortfolioSolver\n",
    "import pandas as pd\n",
    "\n",
    "stocks: dict[Stock, float] = {\n",
    "    Stock('1', \"Apple\", \"AAPL\"): 0.2,\n",
    "    Stock('2', \"Microsoft\", \"MSFT\"): 0.8\n",
    "}\n",
    "\n",
    "config = SolverConfig()\n",
    "solver = PortfolioSolver(stocks, config)\n",
    "today = date.today()"
   ],
   "outputs": [],
   "execution_count": 8
  },
  {
   "metadata": {
    "ExecuteTime": {
     "end_time": "2025-06-06T17:07:28.819519Z",
     "start_time": "2025-06-06T17:07:28.810955Z"
    }
   },
   "cell_type": "code",
   "source": [
    "portfolio = solver.solve(today)\n",
    "metadata = portfolio.stocks\n",
    "\n",
    "df = pd.DataFrame({\n",
    "    stock.ticker: {'Weight': md.weight, 'Alpha Score': md.alpha_score}\n",
    "    for stock, md in metadata.items()\n",
    "}).T  # Transpose for nicer layout\n",
    "\n",
    "display(df)"
   ],
   "id": "a1fe440ef14f8b16",
   "outputs": [
    {
     "name": "stdout",
     "output_type": "stream",
     "text": [
      "     pcost       dcost       gap    pres   dres\n",
      " 0: -1.1682e+00 -2.1827e+00  1e+00  1e-16  2e-02\n",
      " 1: -1.1683e+00 -1.1784e+00  1e-02  2e-16  2e-04\n",
      " 2: -1.1683e+00 -1.1684e+00  1e-04  2e-16  2e-06\n",
      " 3: -1.1683e+00 -1.1683e+00  1e-06  1e-16  2e-08\n",
      "Optimal solution found.\n"
     ]
    },
    {
     "data": {
      "text/plain": [
       "        Weight  Alpha Score\n",
       "AAPL  0.985175          0.2\n",
       "MSFT  0.014825          0.8"
      ],
      "text/html": [
       "<div>\n",
       "<style scoped>\n",
       "    .dataframe tbody tr th:only-of-type {\n",
       "        vertical-align: middle;\n",
       "    }\n",
       "\n",
       "    .dataframe tbody tr th {\n",
       "        vertical-align: top;\n",
       "    }\n",
       "\n",
       "    .dataframe thead th {\n",
       "        text-align: right;\n",
       "    }\n",
       "</style>\n",
       "<table border=\"1\" class=\"dataframe\">\n",
       "  <thead>\n",
       "    <tr style=\"text-align: right;\">\n",
       "      <th></th>\n",
       "      <th>Weight</th>\n",
       "      <th>Alpha Score</th>\n",
       "    </tr>\n",
       "  </thead>\n",
       "  <tbody>\n",
       "    <tr>\n",
       "      <th>AAPL</th>\n",
       "      <td>0.985175</td>\n",
       "      <td>0.2</td>\n",
       "    </tr>\n",
       "    <tr>\n",
       "      <th>MSFT</th>\n",
       "      <td>0.014825</td>\n",
       "      <td>0.8</td>\n",
       "    </tr>\n",
       "  </tbody>\n",
       "</table>\n",
       "</div>"
      ]
     },
     "metadata": {},
     "output_type": "display_data"
    }
   ],
   "execution_count": 9
  }
 ],
 "metadata": {
  "kernelspec": {
   "display_name": "Python 3",
   "language": "python",
   "name": "python3"
  },
  "language_info": {
   "codemirror_mode": {
    "name": "ipython",
    "version": 2
   },
   "file_extension": ".py",
   "mimetype": "text/x-python",
   "name": "python",
   "nbconvert_exporter": "python",
   "pygments_lexer": "ipython2",
   "version": "2.7.6"
  }
 },
 "nbformat": 4,
 "nbformat_minor": 5
}

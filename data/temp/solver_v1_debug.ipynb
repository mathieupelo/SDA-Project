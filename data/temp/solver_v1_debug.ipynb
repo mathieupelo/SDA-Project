{
 "cells": [
  {
   "cell_type": "code",
   "id": "initial_id",
   "metadata": {
    "collapsed": true,
    "ExecuteTime": {
     "end_time": "2025-06-07T18:51:46.126706Z",
     "start_time": "2025-06-07T18:51:46.123074Z"
    }
   },
   "source": [
    "from cvxopt import matrix, solvers\n",
    "from Utils.signals import *"
   ],
   "outputs": [],
   "execution_count": 17
  },
  {
   "cell_type": "code",
   "id": "64218fb41564bad7",
   "metadata": {
    "ExecuteTime": {
     "end_time": "2025-06-07T18:51:46.835705Z",
     "start_time": "2025-06-07T18:51:46.776595Z"
    }
   },
   "source": [
    "# Let's assume we are interested in the following stocks: AAPL, MSFT, TSLA, AMZN, GOOG\n",
    "tickers = ['AAPL', 'MSFT', 'TSLA', 'AMZN', 'GOOG']\n",
    "dates = pd.date_range(start='2020-01-14', periods=3)\n",
    "\n",
    "# Download historical stock data\n",
    "data = yf.download(tickers, start='2020-01-14', end='2020-01-17')\n",
    "display(data)"
   ],
   "outputs": [
    {
     "name": "stderr",
     "output_type": "stream",
     "text": [
      "[*********************100%***********************]  5 of 5 completed\n"
     ]
    },
    {
     "data": {
      "text/plain": [
       "Price           Close                                                    High  \\\n",
       "Ticker           AAPL       AMZN       GOOG        MSFT       TSLA       AAPL   \n",
       "Date                                                                            \n",
       "2020-01-14  75.602058  93.472000  71.206734  154.481079  35.861332  76.784402   \n",
       "2020-01-15  75.278084  93.100998  71.620773  155.481506  34.566666  76.283920   \n",
       "2020-01-16  76.221046  93.897003  72.242821  158.330475  34.232666  76.332274   \n",
       "\n",
       "Price                                                    ...       Open  \\\n",
       "Ticker           AMZN       GOOG        MSFT       TSLA  ...       AAPL   \n",
       "Date                                                     ...              \n",
       "2020-01-14  94.355499  71.750157  155.881729  36.493999  ...  76.574048   \n",
       "2020-01-15  93.943001  71.730005  156.205660  35.855999  ...  75.401398   \n",
       "2020-01-16  94.279503  72.257256  158.397179  34.297333  ...  75.822099   \n",
       "\n",
       "Price                                                       Volume            \\\n",
       "Ticker           AMZN       GOOG        MSFT       TSLA       AAPL      AMZN   \n",
       "Date                                                                           \n",
       "2020-01-14  94.293999  71.611319  155.681630  36.284000  161954400  68818000   \n",
       "2020-01-15  93.612503  71.173391  154.947928  35.317333  121923600  57932000   \n",
       "2020-01-16  94.149498  72.030827  156.596346  32.916668  108829200  53190000   \n",
       "\n",
       "Price                                      \n",
       "Ticker          GOOG      MSFT       TSLA  \n",
       "Date                                       \n",
       "2020-01-14  31178000  23477400  434943000  \n",
       "2020-01-15  25654000  21417900  260532000  \n",
       "2020-01-16  23474000  23865400  326050500  \n",
       "\n",
       "[3 rows x 25 columns]"
      ],
      "text/html": [
       "<div>\n",
       "<style scoped>\n",
       "    .dataframe tbody tr th:only-of-type {\n",
       "        vertical-align: middle;\n",
       "    }\n",
       "\n",
       "    .dataframe tbody tr th {\n",
       "        vertical-align: top;\n",
       "    }\n",
       "\n",
       "    .dataframe thead tr th {\n",
       "        text-align: left;\n",
       "    }\n",
       "\n",
       "    .dataframe thead tr:last-of-type th {\n",
       "        text-align: right;\n",
       "    }\n",
       "</style>\n",
       "<table border=\"1\" class=\"dataframe\">\n",
       "  <thead>\n",
       "    <tr>\n",
       "      <th>Price</th>\n",
       "      <th colspan=\"5\" halign=\"left\">Close</th>\n",
       "      <th colspan=\"5\" halign=\"left\">High</th>\n",
       "      <th>...</th>\n",
       "      <th colspan=\"5\" halign=\"left\">Open</th>\n",
       "      <th colspan=\"5\" halign=\"left\">Volume</th>\n",
       "    </tr>\n",
       "    <tr>\n",
       "      <th>Ticker</th>\n",
       "      <th>AAPL</th>\n",
       "      <th>AMZN</th>\n",
       "      <th>GOOG</th>\n",
       "      <th>MSFT</th>\n",
       "      <th>TSLA</th>\n",
       "      <th>AAPL</th>\n",
       "      <th>AMZN</th>\n",
       "      <th>GOOG</th>\n",
       "      <th>MSFT</th>\n",
       "      <th>TSLA</th>\n",
       "      <th>...</th>\n",
       "      <th>AAPL</th>\n",
       "      <th>AMZN</th>\n",
       "      <th>GOOG</th>\n",
       "      <th>MSFT</th>\n",
       "      <th>TSLA</th>\n",
       "      <th>AAPL</th>\n",
       "      <th>AMZN</th>\n",
       "      <th>GOOG</th>\n",
       "      <th>MSFT</th>\n",
       "      <th>TSLA</th>\n",
       "    </tr>\n",
       "    <tr>\n",
       "      <th>Date</th>\n",
       "      <th></th>\n",
       "      <th></th>\n",
       "      <th></th>\n",
       "      <th></th>\n",
       "      <th></th>\n",
       "      <th></th>\n",
       "      <th></th>\n",
       "      <th></th>\n",
       "      <th></th>\n",
       "      <th></th>\n",
       "      <th></th>\n",
       "      <th></th>\n",
       "      <th></th>\n",
       "      <th></th>\n",
       "      <th></th>\n",
       "      <th></th>\n",
       "      <th></th>\n",
       "      <th></th>\n",
       "      <th></th>\n",
       "      <th></th>\n",
       "      <th></th>\n",
       "    </tr>\n",
       "  </thead>\n",
       "  <tbody>\n",
       "    <tr>\n",
       "      <th>2020-01-14</th>\n",
       "      <td>75.602058</td>\n",
       "      <td>93.472000</td>\n",
       "      <td>71.206734</td>\n",
       "      <td>154.481079</td>\n",
       "      <td>35.861332</td>\n",
       "      <td>76.784402</td>\n",
       "      <td>94.355499</td>\n",
       "      <td>71.750157</td>\n",
       "      <td>155.881729</td>\n",
       "      <td>36.493999</td>\n",
       "      <td>...</td>\n",
       "      <td>76.574048</td>\n",
       "      <td>94.293999</td>\n",
       "      <td>71.611319</td>\n",
       "      <td>155.681630</td>\n",
       "      <td>36.284000</td>\n",
       "      <td>161954400</td>\n",
       "      <td>68818000</td>\n",
       "      <td>31178000</td>\n",
       "      <td>23477400</td>\n",
       "      <td>434943000</td>\n",
       "    </tr>\n",
       "    <tr>\n",
       "      <th>2020-01-15</th>\n",
       "      <td>75.278084</td>\n",
       "      <td>93.100998</td>\n",
       "      <td>71.620773</td>\n",
       "      <td>155.481506</td>\n",
       "      <td>34.566666</td>\n",
       "      <td>76.283920</td>\n",
       "      <td>93.943001</td>\n",
       "      <td>71.730005</td>\n",
       "      <td>156.205660</td>\n",
       "      <td>35.855999</td>\n",
       "      <td>...</td>\n",
       "      <td>75.401398</td>\n",
       "      <td>93.612503</td>\n",
       "      <td>71.173391</td>\n",
       "      <td>154.947928</td>\n",
       "      <td>35.317333</td>\n",
       "      <td>121923600</td>\n",
       "      <td>57932000</td>\n",
       "      <td>25654000</td>\n",
       "      <td>21417900</td>\n",
       "      <td>260532000</td>\n",
       "    </tr>\n",
       "    <tr>\n",
       "      <th>2020-01-16</th>\n",
       "      <td>76.221046</td>\n",
       "      <td>93.897003</td>\n",
       "      <td>72.242821</td>\n",
       "      <td>158.330475</td>\n",
       "      <td>34.232666</td>\n",
       "      <td>76.332274</td>\n",
       "      <td>94.279503</td>\n",
       "      <td>72.257256</td>\n",
       "      <td>158.397179</td>\n",
       "      <td>34.297333</td>\n",
       "      <td>...</td>\n",
       "      <td>75.822099</td>\n",
       "      <td>94.149498</td>\n",
       "      <td>72.030827</td>\n",
       "      <td>156.596346</td>\n",
       "      <td>32.916668</td>\n",
       "      <td>108829200</td>\n",
       "      <td>53190000</td>\n",
       "      <td>23474000</td>\n",
       "      <td>23865400</td>\n",
       "      <td>326050500</td>\n",
       "    </tr>\n",
       "  </tbody>\n",
       "</table>\n",
       "<p>3 rows × 25 columns</p>\n",
       "</div>"
      ]
     },
     "metadata": {},
     "output_type": "display_data"
    }
   ],
   "execution_count": 18
  },
  {
   "cell_type": "code",
   "id": "eff2fba4d560e37",
   "metadata": {
    "ExecuteTime": {
     "end_time": "2025-06-07T18:51:48.839887Z",
     "start_time": "2025-06-07T18:51:48.833467Z"
    }
   },
   "source": [
    "# Compute historical daily returns\n",
    "var_returns = data['Close'].pct_change().dropna()\n",
    "display(var_returns)"
   ],
   "outputs": [
    {
     "data": {
      "text/plain": [
       "Ticker          AAPL      AMZN      GOOG      MSFT      TSLA\n",
       "Date                                                        \n",
       "2020-01-15 -0.004285 -0.003969  0.005815  0.006476 -0.036102\n",
       "2020-01-16  0.012526  0.008550  0.008685  0.018324 -0.009662"
      ],
      "text/html": [
       "<div>\n",
       "<style scoped>\n",
       "    .dataframe tbody tr th:only-of-type {\n",
       "        vertical-align: middle;\n",
       "    }\n",
       "\n",
       "    .dataframe tbody tr th {\n",
       "        vertical-align: top;\n",
       "    }\n",
       "\n",
       "    .dataframe thead th {\n",
       "        text-align: right;\n",
       "    }\n",
       "</style>\n",
       "<table border=\"1\" class=\"dataframe\">\n",
       "  <thead>\n",
       "    <tr style=\"text-align: right;\">\n",
       "      <th>Ticker</th>\n",
       "      <th>AAPL</th>\n",
       "      <th>AMZN</th>\n",
       "      <th>GOOG</th>\n",
       "      <th>MSFT</th>\n",
       "      <th>TSLA</th>\n",
       "    </tr>\n",
       "    <tr>\n",
       "      <th>Date</th>\n",
       "      <th></th>\n",
       "      <th></th>\n",
       "      <th></th>\n",
       "      <th></th>\n",
       "      <th></th>\n",
       "    </tr>\n",
       "  </thead>\n",
       "  <tbody>\n",
       "    <tr>\n",
       "      <th>2020-01-15</th>\n",
       "      <td>-0.004285</td>\n",
       "      <td>-0.003969</td>\n",
       "      <td>0.005815</td>\n",
       "      <td>0.006476</td>\n",
       "      <td>-0.036102</td>\n",
       "    </tr>\n",
       "    <tr>\n",
       "      <th>2020-01-16</th>\n",
       "      <td>0.012526</td>\n",
       "      <td>0.008550</td>\n",
       "      <td>0.008685</td>\n",
       "      <td>0.018324</td>\n",
       "      <td>-0.009662</td>\n",
       "    </tr>\n",
       "  </tbody>\n",
       "</table>\n",
       "</div>"
      ]
     },
     "metadata": {},
     "output_type": "display_data"
    }
   ],
   "execution_count": 19
  },
  {
   "cell_type": "code",
   "execution_count": 4,
   "id": "f764af0f9c0578b0",
   "metadata": {
    "ExecuteTime": {
     "end_time": "2025-06-06T17:08:22.897909Z",
     "start_time": "2025-06-06T17:08:22.893867Z"
    }
   },
   "outputs": [
    {
     "name": "stdout",
     "output_type": "stream",
     "text": [
      "[[ 0.00412056]\n",
      " [ 0.00229039]\n",
      " [ 0.00724995]\n",
      " [ 0.01239979]\n",
      " [-0.02288225]]\n"
     ]
    }
   ],
   "source": [
    "# Expected returns (mean of past returns)\n",
    "mu = var_returns.mean().values.reshape(-1, 1)\n",
    "print(mu)"
   ]
  },
  {
   "cell_type": "code",
   "execution_count": 5,
   "id": "22fd60f7e6634965",
   "metadata": {
    "ExecuteTime": {
     "end_time": "2025-06-06T17:08:22.981356Z",
     "start_time": "2025-06-06T17:08:22.975510Z"
    }
   },
   "outputs": [
    {
     "name": "stdout",
     "output_type": "stream",
     "text": [
      "[[1.41315820e-04 1.05232851e-04 2.41304377e-05 9.95877686e-05\n",
      "  2.22246137e-04]\n",
      " [1.05232851e-04 7.83631509e-05 1.79690763e-05 7.41594595e-05\n",
      "  1.65498772e-04]\n",
      " [2.41304377e-05 1.79690763e-05 4.12040226e-06 1.70051481e-05\n",
      "  3.79497254e-05]\n",
      " [9.95877686e-05 7.41594595e-05 1.70051481e-05 7.01812697e-05\n",
      "  1.56620801e-04]\n",
      " [2.22246137e-04 1.65498772e-04 3.79497254e-05 1.56620801e-04\n",
      "  3.49524529e-04]]\n"
     ]
    }
   ],
   "source": [
    "# Compute covariance matrix\n",
    "Sigma = var_returns.cov().values\n",
    "print(Sigma)"
   ]
  },
  {
   "cell_type": "code",
   "execution_count": 6,
   "id": "2114531a2a87d7ee",
   "metadata": {
    "ExecuteTime": {
     "end_time": "2025-06-06T17:08:23.009942Z",
     "start_time": "2025-06-06T17:08:23.006992Z"
    }
   },
   "outputs": [
    {
     "name": "stdout",
     "output_type": "stream",
     "text": [
      "[0.5, 0.5, 0.5, 0.5, 0.5]\n"
     ]
    }
   ],
   "source": [
    "alpha_scores = [ 0.5, 0.5, 0.5, 0.5, 0.5 ]\n",
    "print(alpha_scores)"
   ]
  },
  {
   "cell_type": "code",
   "execution_count": 7,
   "id": "bd66cda7c5936b50",
   "metadata": {
    "ExecuteTime": {
     "end_time": "2025-06-06T17:08:23.051845Z",
     "start_time": "2025-06-06T17:08:23.048331Z"
    }
   },
   "outputs": [
    {
     "name": "stdout",
     "output_type": "stream",
     "text": [
      "[-2.04e-01]\n",
      "[-2.02e-01]\n",
      "[-2.07e-01]\n",
      "[-2.12e-01]\n",
      "[-1.77e-01]\n",
      "\n"
     ]
    }
   ],
   "source": [
    "n_assets = 5\n",
    "\n",
    "# Quadratic term (Risk component: λ * w'Σw)\n",
    "P = matrix(0.3 * Sigma)\n",
    "\n",
    "# Normalize signal scores\n",
    "normalized_scores = alpha_scores / np.sum(alpha_scores)\n",
    "\n",
    "# Linear term (maximize return + signal influence)\n",
    "q = matrix(-mu - normalized_scores.reshape(-1, 1))\n",
    "print(q)"
   ]
  },
  {
   "cell_type": "code",
   "execution_count": 8,
   "id": "39513891e15e966a",
   "metadata": {
    "ExecuteTime": {
     "end_time": "2025-06-06T17:08:23.085500Z",
     "start_time": "2025-06-06T17:08:23.078468Z"
    }
   },
   "outputs": [
    {
     "name": "stdout",
     "output_type": "stream",
     "text": [
      "     pcost       dcost       gap    pres   dres\n",
      " 0: -2.0137e-01 -1.2124e+00  1e+00  0e+00  3e+00\n",
      " 1: -2.0164e-01 -2.2239e-01  2e-02  1e-16  6e-02\n",
      " 2: -2.0717e-01 -2.1249e-01  5e-03  7e-17  1e-02\n",
      " 3: -2.1207e-01 -2.1285e-01  8e-04  3e-15  3e-17\n",
      " 4: -2.1239e-01 -2.1239e-01  8e-06  2e-16  4e-17\n",
      " 5: -2.1239e-01 -2.1239e-01  8e-08  1e-16  4e-17\n",
      "Optimal solution found.\n"
     ]
    }
   ],
   "source": [
    "# Constraints\n",
    "G = -np.eye(n_assets)   # Only non-negative weights constraint\n",
    "h = np.zeros(n_assets)  # w ≥ 0\n",
    "\n",
    "# Full investment constraint: sum(w) = 1\n",
    "A = matrix(np.ones((1, n_assets)))\n",
    "b = matrix(np.ones(1))\n",
    "\n",
    "# Solve quadratic optimization problem\n",
    "sol = solvers.qp(P, q, G=matrix(G), h=matrix(h), A=A, b=b)\n",
    "\n",
    "# Extract portfolio weights\n",
    "weights = np.array(sol['x']).flatten()"
   ]
  }
 ],
 "metadata": {
  "kernelspec": {
   "display_name": "Python 3",
   "language": "python",
   "name": "python3"
  },
  "language_info": {
   "codemirror_mode": {
    "name": "ipython",
    "version": 2
   },
   "file_extension": ".py",
   "mimetype": "text/x-python",
   "name": "python",
   "nbconvert_exporter": "python",
   "pygments_lexer": "ipython2",
   "version": "2.7.6"
  }
 },
 "nbformat": 4,
 "nbformat_minor": 5
}

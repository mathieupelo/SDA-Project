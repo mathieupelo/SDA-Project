{
 "cells": [
  {
   "metadata": {
    "ExecuteTime": {
     "end_time": "2025-06-07T18:51:24.978420Z",
     "start_time": "2025-06-07T18:51:24.323200Z"
    }
   },
   "cell_type": "code",
   "source": [
    "from data.api import API\n",
    "from data.solver_config import SolverConfig\n",
    "from data.stock import Stock\n",
    "from data.portfolio import Portfolio\n",
    "from Utils.portfolio_solver import PortfolioSolver\n",
    "from cvxopt import matrix, solvers\n",
    "import numpy as np\n",
    "import pandas as pd\n",
    "\n",
    "stocks: dict[Stock, float] = {\n",
    "    Stock('1', \"Apple\", \"AAPL\"): 0.2,\n",
    "    Stock('2', \"Microsoft\", \"MSFT\"): 0.8\n",
    "}\n",
    "\n",
    "api = API('192.168.0.165')\n",
    "config = SolverConfig()\n",
    "solver = PortfolioSolver(stocks, config)\n"
   ],
   "id": "bc17e9565223535b",
   "outputs": [],
   "execution_count": 1
  },
  {
   "metadata": {
    "ExecuteTime": {
     "end_time": "2025-06-07T18:51:26.089425Z",
     "start_time": "2025-06-07T18:51:25.548667Z"
    }
   },
   "cell_type": "code",
   "source": [
    "from datetime import date\n",
    "\n",
    "stock_list = list(solver.stock_weights.items())\n",
    "stock_count = len(stock_list)\n",
    "\n",
    "price_data = api.get_price_history_for_tickers({ stock.ticker for stock in stocks.keys() }, date(2014, 1, 1), date(2015, 1, 1))\n",
    "price_data_df = pd.DataFrame.from_dict(price_data, orient='index').T"
   ],
   "id": "9c53c722759a23e4",
   "outputs": [
    {
     "name": "stdout",
     "output_type": "stream",
     "text": [
      "YF.download() has changed argument auto_adjust default to True\n"
     ]
    }
   ],
   "execution_count": 2
  },
  {
   "metadata": {
    "ExecuteTime": {
     "end_time": "2025-06-07T18:51:33.190903Z",
     "start_time": "2025-06-07T18:51:32.579044Z"
    }
   },
   "cell_type": "code",
   "source": [
    "# === Compute daily returns ===\n",
    "var_returns = price_data_df.pct_change().dropna()\n",
    "display(var_returns)"
   ],
   "id": "6aec5a6fde5b1e68",
   "outputs": [
    {
     "name": "stderr",
     "output_type": "stream",
     "text": [
      "C:\\Users\\lafla\\AppData\\Local\\Temp\\ipykernel_12312\\1616379198.py:2: FutureWarning: The default fill_method='pad' in DataFrame.pct_change is deprecated and will be removed in a future version. Either fill in any non-leading NA values prior to calling pct_change or specify 'fill_method=None' to not fill NA values.\n",
      "  var_returns = price_data_df.pct_change().dropna()\n"
     ]
    },
    {
     "ename": "TypeError",
     "evalue": "unsupported operand type(s) for /: 'float' and 'decimal.Decimal'",
     "output_type": "error",
     "traceback": [
      "\u001B[31m---------------------------------------------------------------------------\u001B[39m",
      "\u001B[31mTypeError\u001B[39m                                 Traceback (most recent call last)",
      "\u001B[36mFile \u001B[39m\u001B[32m~\\SDA-Project\\.venv\\Lib\\site-packages\\pandas\\core\\ops\\array_ops.py:218\u001B[39m, in \u001B[36m_na_arithmetic_op\u001B[39m\u001B[34m(left, right, op, is_cmp)\u001B[39m\n\u001B[32m    217\u001B[39m \u001B[38;5;28;01mtry\u001B[39;00m:\n\u001B[32m--> \u001B[39m\u001B[32m218\u001B[39m     result = \u001B[43mfunc\u001B[49m\u001B[43m(\u001B[49m\u001B[43mleft\u001B[49m\u001B[43m,\u001B[49m\u001B[43m \u001B[49m\u001B[43mright\u001B[49m\u001B[43m)\u001B[49m\n\u001B[32m    219\u001B[39m \u001B[38;5;28;01mexcept\u001B[39;00m \u001B[38;5;167;01mTypeError\u001B[39;00m:\n",
      "\u001B[36mFile \u001B[39m\u001B[32m~\\SDA-Project\\.venv\\Lib\\site-packages\\pandas\\core\\computation\\expressions.py:242\u001B[39m, in \u001B[36mevaluate\u001B[39m\u001B[34m(op, a, b, use_numexpr)\u001B[39m\n\u001B[32m    240\u001B[39m     \u001B[38;5;28;01mif\u001B[39;00m use_numexpr:\n\u001B[32m    241\u001B[39m         \u001B[38;5;66;03m# error: \"None\" not callable\u001B[39;00m\n\u001B[32m--> \u001B[39m\u001B[32m242\u001B[39m         \u001B[38;5;28;01mreturn\u001B[39;00m \u001B[43m_evaluate\u001B[49m\u001B[43m(\u001B[49m\u001B[43mop\u001B[49m\u001B[43m,\u001B[49m\u001B[43m \u001B[49m\u001B[43mop_str\u001B[49m\u001B[43m,\u001B[49m\u001B[43m \u001B[49m\u001B[43ma\u001B[49m\u001B[43m,\u001B[49m\u001B[43m \u001B[49m\u001B[43mb\u001B[49m\u001B[43m)\u001B[49m  \u001B[38;5;66;03m# type: ignore[misc]\u001B[39;00m\n\u001B[32m    243\u001B[39m \u001B[38;5;28;01mreturn\u001B[39;00m _evaluate_standard(op, op_str, a, b)\n",
      "\u001B[36mFile \u001B[39m\u001B[32m~\\SDA-Project\\.venv\\Lib\\site-packages\\pandas\\core\\computation\\expressions.py:73\u001B[39m, in \u001B[36m_evaluate_standard\u001B[39m\u001B[34m(op, op_str, a, b)\u001B[39m\n\u001B[32m     72\u001B[39m     _store_test_result(\u001B[38;5;28;01mFalse\u001B[39;00m)\n\u001B[32m---> \u001B[39m\u001B[32m73\u001B[39m \u001B[38;5;28;01mreturn\u001B[39;00m \u001B[43mop\u001B[49m\u001B[43m(\u001B[49m\u001B[43ma\u001B[49m\u001B[43m,\u001B[49m\u001B[43m \u001B[49m\u001B[43mb\u001B[49m\u001B[43m)\u001B[49m\n",
      "\u001B[31mTypeError\u001B[39m: unsupported operand type(s) for /: 'NoneType' and 'NoneType'",
      "\nDuring handling of the above exception, another exception occurred:\n",
      "\u001B[31mTypeError\u001B[39m                                 Traceback (most recent call last)",
      "\u001B[36mCell\u001B[39m\u001B[36m \u001B[39m\u001B[32mIn[4]\u001B[39m\u001B[32m, line 2\u001B[39m\n\u001B[32m      1\u001B[39m \u001B[38;5;66;03m# === Compute daily returns ===\u001B[39;00m\n\u001B[32m----> \u001B[39m\u001B[32m2\u001B[39m var_returns = \u001B[43mprice_data_df\u001B[49m\u001B[43m.\u001B[49m\u001B[43mpct_change\u001B[49m\u001B[43m(\u001B[49m\u001B[43m)\u001B[49m.dropna()\n\u001B[32m      3\u001B[39m display(var_returns)\n",
      "\u001B[36mFile \u001B[39m\u001B[32m~\\SDA-Project\\.venv\\Lib\\site-packages\\pandas\\core\\generic.py:12161\u001B[39m, in \u001B[36mNDFrame.pct_change\u001B[39m\u001B[34m(self, periods, fill_method, limit, freq, **kwargs)\u001B[39m\n\u001B[32m  12159\u001B[39m shifted = data.shift(periods=periods, freq=freq, axis=axis, **kwargs)\n\u001B[32m  12160\u001B[39m \u001B[38;5;66;03m# Unsupported left operand type for / (\"Self\")\u001B[39;00m\n\u001B[32m> \u001B[39m\u001B[32m12161\u001B[39m rs = \u001B[43mdata\u001B[49m\u001B[43m \u001B[49m\u001B[43m/\u001B[49m\u001B[43m \u001B[49m\u001B[43mshifted\u001B[49m - \u001B[32m1\u001B[39m  \u001B[38;5;66;03m# type: ignore[operator]\u001B[39;00m\n\u001B[32m  12162\u001B[39m \u001B[38;5;28;01mif\u001B[39;00m freq \u001B[38;5;129;01mis\u001B[39;00m \u001B[38;5;129;01mnot\u001B[39;00m \u001B[38;5;28;01mNone\u001B[39;00m:\n\u001B[32m  12163\u001B[39m     \u001B[38;5;66;03m# Shift method is implemented differently when freq is not None\u001B[39;00m\n\u001B[32m  12164\u001B[39m     \u001B[38;5;66;03m# We want to restore the original index\u001B[39;00m\n\u001B[32m  12165\u001B[39m     rs = rs.loc[~rs.index.duplicated()]\n",
      "\u001B[36mFile \u001B[39m\u001B[32m~\\SDA-Project\\.venv\\Lib\\site-packages\\pandas\\core\\ops\\common.py:76\u001B[39m, in \u001B[36m_unpack_zerodim_and_defer.<locals>.new_method\u001B[39m\u001B[34m(self, other)\u001B[39m\n\u001B[32m     72\u001B[39m             \u001B[38;5;28;01mreturn\u001B[39;00m \u001B[38;5;28mNotImplemented\u001B[39m\n\u001B[32m     74\u001B[39m other = item_from_zerodim(other)\n\u001B[32m---> \u001B[39m\u001B[32m76\u001B[39m \u001B[38;5;28;01mreturn\u001B[39;00m \u001B[43mmethod\u001B[49m\u001B[43m(\u001B[49m\u001B[38;5;28;43mself\u001B[39;49m\u001B[43m,\u001B[49m\u001B[43m \u001B[49m\u001B[43mother\u001B[49m\u001B[43m)\u001B[49m\n",
      "\u001B[36mFile \u001B[39m\u001B[32m~\\SDA-Project\\.venv\\Lib\\site-packages\\pandas\\core\\arraylike.py:210\u001B[39m, in \u001B[36mOpsMixin.__truediv__\u001B[39m\u001B[34m(self, other)\u001B[39m\n\u001B[32m    208\u001B[39m \u001B[38;5;129m@unpack_zerodim_and_defer\u001B[39m(\u001B[33m\"\u001B[39m\u001B[33m__truediv__\u001B[39m\u001B[33m\"\u001B[39m)\n\u001B[32m    209\u001B[39m \u001B[38;5;28;01mdef\u001B[39;00m\u001B[38;5;250m \u001B[39m\u001B[34m__truediv__\u001B[39m(\u001B[38;5;28mself\u001B[39m, other):\n\u001B[32m--> \u001B[39m\u001B[32m210\u001B[39m     \u001B[38;5;28;01mreturn\u001B[39;00m \u001B[38;5;28;43mself\u001B[39;49m\u001B[43m.\u001B[49m\u001B[43m_arith_method\u001B[49m\u001B[43m(\u001B[49m\u001B[43mother\u001B[49m\u001B[43m,\u001B[49m\u001B[43m \u001B[49m\u001B[43moperator\u001B[49m\u001B[43m.\u001B[49m\u001B[43mtruediv\u001B[49m\u001B[43m)\u001B[49m\n",
      "\u001B[36mFile \u001B[39m\u001B[32m~\\SDA-Project\\.venv\\Lib\\site-packages\\pandas\\core\\frame.py:7913\u001B[39m, in \u001B[36mDataFrame._arith_method\u001B[39m\u001B[34m(self, other, op)\u001B[39m\n\u001B[32m   7910\u001B[39m \u001B[38;5;28mself\u001B[39m, other = \u001B[38;5;28mself\u001B[39m._align_for_op(other, axis, flex=\u001B[38;5;28;01mTrue\u001B[39;00m, level=\u001B[38;5;28;01mNone\u001B[39;00m)\n\u001B[32m   7912\u001B[39m \u001B[38;5;28;01mwith\u001B[39;00m np.errstate(\u001B[38;5;28mall\u001B[39m=\u001B[33m\"\u001B[39m\u001B[33mignore\u001B[39m\u001B[33m\"\u001B[39m):\n\u001B[32m-> \u001B[39m\u001B[32m7913\u001B[39m     new_data = \u001B[38;5;28;43mself\u001B[39;49m\u001B[43m.\u001B[49m\u001B[43m_dispatch_frame_op\u001B[49m\u001B[43m(\u001B[49m\u001B[43mother\u001B[49m\u001B[43m,\u001B[49m\u001B[43m \u001B[49m\u001B[43mop\u001B[49m\u001B[43m,\u001B[49m\u001B[43m \u001B[49m\u001B[43maxis\u001B[49m\u001B[43m=\u001B[49m\u001B[43maxis\u001B[49m\u001B[43m)\u001B[49m\n\u001B[32m   7914\u001B[39m \u001B[38;5;28;01mreturn\u001B[39;00m \u001B[38;5;28mself\u001B[39m._construct_result(new_data)\n",
      "\u001B[36mFile \u001B[39m\u001B[32m~\\SDA-Project\\.venv\\Lib\\site-packages\\pandas\\core\\frame.py:7956\u001B[39m, in \u001B[36mDataFrame._dispatch_frame_op\u001B[39m\u001B[34m(self, right, func, axis)\u001B[39m\n\u001B[32m   7950\u001B[39m     \u001B[38;5;28;01massert\u001B[39;00m \u001B[38;5;28mself\u001B[39m.columns.equals(right.columns)\n\u001B[32m   7951\u001B[39m     \u001B[38;5;66;03m# TODO: The previous assertion `assert right._indexed_same(self)`\u001B[39;00m\n\u001B[32m   7952\u001B[39m     \u001B[38;5;66;03m#  fails in cases with empty columns reached via\u001B[39;00m\n\u001B[32m   7953\u001B[39m     \u001B[38;5;66;03m#  _frame_arith_method_with_reindex\u001B[39;00m\n\u001B[32m   7954\u001B[39m \n\u001B[32m   7955\u001B[39m     \u001B[38;5;66;03m# TODO operate_blockwise expects a manager of the same type\u001B[39;00m\n\u001B[32m-> \u001B[39m\u001B[32m7956\u001B[39m     bm = \u001B[38;5;28;43mself\u001B[39;49m\u001B[43m.\u001B[49m\u001B[43m_mgr\u001B[49m\u001B[43m.\u001B[49m\u001B[43moperate_blockwise\u001B[49m\u001B[43m(\u001B[49m\n\u001B[32m   7957\u001B[39m \u001B[43m        \u001B[49m\u001B[38;5;66;43;03m# error: Argument 1 to \"operate_blockwise\" of \"ArrayManager\" has\u001B[39;49;00m\n\u001B[32m   7958\u001B[39m \u001B[43m        \u001B[49m\u001B[38;5;66;43;03m# incompatible type \"Union[ArrayManager, BlockManager]\"; expected\u001B[39;49;00m\n\u001B[32m   7959\u001B[39m \u001B[43m        \u001B[49m\u001B[38;5;66;43;03m# \"ArrayManager\"\u001B[39;49;00m\n\u001B[32m   7960\u001B[39m \u001B[43m        \u001B[49m\u001B[38;5;66;43;03m# error: Argument 1 to \"operate_blockwise\" of \"BlockManager\" has\u001B[39;49;00m\n\u001B[32m   7961\u001B[39m \u001B[43m        \u001B[49m\u001B[38;5;66;43;03m# incompatible type \"Union[ArrayManager, BlockManager]\"; expected\u001B[39;49;00m\n\u001B[32m   7962\u001B[39m \u001B[43m        \u001B[49m\u001B[38;5;66;43;03m# \"BlockManager\"\u001B[39;49;00m\n\u001B[32m   7963\u001B[39m \u001B[43m        \u001B[49m\u001B[43mright\u001B[49m\u001B[43m.\u001B[49m\u001B[43m_mgr\u001B[49m\u001B[43m,\u001B[49m\u001B[43m  \u001B[49m\u001B[38;5;66;43;03m# type: ignore[arg-type]\u001B[39;49;00m\n\u001B[32m   7964\u001B[39m \u001B[43m        \u001B[49m\u001B[43marray_op\u001B[49m\u001B[43m,\u001B[49m\n\u001B[32m   7965\u001B[39m \u001B[43m    \u001B[49m\u001B[43m)\u001B[49m\n\u001B[32m   7966\u001B[39m     \u001B[38;5;28;01mreturn\u001B[39;00m \u001B[38;5;28mself\u001B[39m._constructor_from_mgr(bm, axes=bm.axes)\n\u001B[32m   7968\u001B[39m \u001B[38;5;28;01melif\u001B[39;00m \u001B[38;5;28misinstance\u001B[39m(right, Series) \u001B[38;5;129;01mand\u001B[39;00m axis == \u001B[32m1\u001B[39m:\n\u001B[32m   7969\u001B[39m     \u001B[38;5;66;03m# axis=1 means we want to operate row-by-row\u001B[39;00m\n",
      "\u001B[36mFile \u001B[39m\u001B[32m~\\SDA-Project\\.venv\\Lib\\site-packages\\pandas\\core\\internals\\managers.py:1511\u001B[39m, in \u001B[36mBlockManager.operate_blockwise\u001B[39m\u001B[34m(self, other, array_op)\u001B[39m\n\u001B[32m   1507\u001B[39m \u001B[38;5;28;01mdef\u001B[39;00m\u001B[38;5;250m \u001B[39m\u001B[34moperate_blockwise\u001B[39m(\u001B[38;5;28mself\u001B[39m, other: BlockManager, array_op) -> BlockManager:\n\u001B[32m   1508\u001B[39m \u001B[38;5;250m    \u001B[39m\u001B[33;03m\"\"\"\u001B[39;00m\n\u001B[32m   1509\u001B[39m \u001B[33;03m    Apply array_op blockwise with another (aligned) BlockManager.\u001B[39;00m\n\u001B[32m   1510\u001B[39m \u001B[33;03m    \"\"\"\u001B[39;00m\n\u001B[32m-> \u001B[39m\u001B[32m1511\u001B[39m     \u001B[38;5;28;01mreturn\u001B[39;00m \u001B[43moperate_blockwise\u001B[49m\u001B[43m(\u001B[49m\u001B[38;5;28;43mself\u001B[39;49m\u001B[43m,\u001B[49m\u001B[43m \u001B[49m\u001B[43mother\u001B[49m\u001B[43m,\u001B[49m\u001B[43m \u001B[49m\u001B[43marray_op\u001B[49m\u001B[43m)\u001B[49m\n",
      "\u001B[36mFile \u001B[39m\u001B[32m~\\SDA-Project\\.venv\\Lib\\site-packages\\pandas\\core\\internals\\ops.py:65\u001B[39m, in \u001B[36moperate_blockwise\u001B[39m\u001B[34m(left, right, array_op)\u001B[39m\n\u001B[32m     63\u001B[39m res_blks: \u001B[38;5;28mlist\u001B[39m[Block] = []\n\u001B[32m     64\u001B[39m \u001B[38;5;28;01mfor\u001B[39;00m lvals, rvals, locs, left_ea, right_ea, rblk \u001B[38;5;129;01min\u001B[39;00m _iter_block_pairs(left, right):\n\u001B[32m---> \u001B[39m\u001B[32m65\u001B[39m     res_values = \u001B[43marray_op\u001B[49m\u001B[43m(\u001B[49m\u001B[43mlvals\u001B[49m\u001B[43m,\u001B[49m\u001B[43m \u001B[49m\u001B[43mrvals\u001B[49m\u001B[43m)\u001B[49m\n\u001B[32m     66\u001B[39m     \u001B[38;5;28;01mif\u001B[39;00m (\n\u001B[32m     67\u001B[39m         left_ea\n\u001B[32m     68\u001B[39m         \u001B[38;5;129;01mand\u001B[39;00m \u001B[38;5;129;01mnot\u001B[39;00m right_ea\n\u001B[32m     69\u001B[39m         \u001B[38;5;129;01mand\u001B[39;00m \u001B[38;5;28mhasattr\u001B[39m(res_values, \u001B[33m\"\u001B[39m\u001B[33mreshape\u001B[39m\u001B[33m\"\u001B[39m)\n\u001B[32m     70\u001B[39m         \u001B[38;5;129;01mand\u001B[39;00m \u001B[38;5;129;01mnot\u001B[39;00m is_1d_only_ea_dtype(res_values.dtype)\n\u001B[32m     71\u001B[39m     ):\n\u001B[32m     72\u001B[39m         res_values = res_values.reshape(\u001B[32m1\u001B[39m, -\u001B[32m1\u001B[39m)\n",
      "\u001B[36mFile \u001B[39m\u001B[32m~\\SDA-Project\\.venv\\Lib\\site-packages\\pandas\\core\\ops\\array_ops.py:283\u001B[39m, in \u001B[36marithmetic_op\u001B[39m\u001B[34m(left, right, op)\u001B[39m\n\u001B[32m    279\u001B[39m     _bool_arith_check(op, left, right)  \u001B[38;5;66;03m# type: ignore[arg-type]\u001B[39;00m\n\u001B[32m    281\u001B[39m     \u001B[38;5;66;03m# error: Argument 1 to \"_na_arithmetic_op\" has incompatible type\u001B[39;00m\n\u001B[32m    282\u001B[39m     \u001B[38;5;66;03m# \"Union[ExtensionArray, ndarray[Any, Any]]\"; expected \"ndarray[Any, Any]\"\u001B[39;00m\n\u001B[32m--> \u001B[39m\u001B[32m283\u001B[39m     res_values = \u001B[43m_na_arithmetic_op\u001B[49m\u001B[43m(\u001B[49m\u001B[43mleft\u001B[49m\u001B[43m,\u001B[49m\u001B[43m \u001B[49m\u001B[43mright\u001B[49m\u001B[43m,\u001B[49m\u001B[43m \u001B[49m\u001B[43mop\u001B[49m\u001B[43m)\u001B[49m  \u001B[38;5;66;03m# type: ignore[arg-type]\u001B[39;00m\n\u001B[32m    285\u001B[39m \u001B[38;5;28;01mreturn\u001B[39;00m res_values\n",
      "\u001B[36mFile \u001B[39m\u001B[32m~\\SDA-Project\\.venv\\Lib\\site-packages\\pandas\\core\\ops\\array_ops.py:227\u001B[39m, in \u001B[36m_na_arithmetic_op\u001B[39m\u001B[34m(left, right, op, is_cmp)\u001B[39m\n\u001B[32m    219\u001B[39m \u001B[38;5;28;01mexcept\u001B[39;00m \u001B[38;5;167;01mTypeError\u001B[39;00m:\n\u001B[32m    220\u001B[39m     \u001B[38;5;28;01mif\u001B[39;00m \u001B[38;5;129;01mnot\u001B[39;00m is_cmp \u001B[38;5;129;01mand\u001B[39;00m (\n\u001B[32m    221\u001B[39m         left.dtype == \u001B[38;5;28mobject\u001B[39m \u001B[38;5;129;01mor\u001B[39;00m \u001B[38;5;28mgetattr\u001B[39m(right, \u001B[33m\"\u001B[39m\u001B[33mdtype\u001B[39m\u001B[33m\"\u001B[39m, \u001B[38;5;28;01mNone\u001B[39;00m) == \u001B[38;5;28mobject\u001B[39m\n\u001B[32m    222\u001B[39m     ):\n\u001B[32m   (...)\u001B[39m\u001B[32m    225\u001B[39m         \u001B[38;5;66;03m# Don't do this for comparisons, as that will handle complex numbers\u001B[39;00m\n\u001B[32m    226\u001B[39m         \u001B[38;5;66;03m#  incorrectly, see GH#32047\u001B[39;00m\n\u001B[32m--> \u001B[39m\u001B[32m227\u001B[39m         result = \u001B[43m_masked_arith_op\u001B[49m\u001B[43m(\u001B[49m\u001B[43mleft\u001B[49m\u001B[43m,\u001B[49m\u001B[43m \u001B[49m\u001B[43mright\u001B[49m\u001B[43m,\u001B[49m\u001B[43m \u001B[49m\u001B[43mop\u001B[49m\u001B[43m)\u001B[49m\n\u001B[32m    228\u001B[39m     \u001B[38;5;28;01melse\u001B[39;00m:\n\u001B[32m    229\u001B[39m         \u001B[38;5;28;01mraise\u001B[39;00m\n",
      "\u001B[36mFile \u001B[39m\u001B[32m~\\SDA-Project\\.venv\\Lib\\site-packages\\pandas\\core\\ops\\array_ops.py:163\u001B[39m, in \u001B[36m_masked_arith_op\u001B[39m\u001B[34m(x, y, op)\u001B[39m\n\u001B[32m    161\u001B[39m     \u001B[38;5;66;03m# See GH#5284, GH#5035, GH#19448 for historical reference\u001B[39;00m\n\u001B[32m    162\u001B[39m     \u001B[38;5;28;01mif\u001B[39;00m mask.any():\n\u001B[32m--> \u001B[39m\u001B[32m163\u001B[39m         result[mask] = \u001B[43mop\u001B[49m\u001B[43m(\u001B[49m\u001B[43mxrav\u001B[49m\u001B[43m[\u001B[49m\u001B[43mmask\u001B[49m\u001B[43m]\u001B[49m\u001B[43m,\u001B[49m\u001B[43m \u001B[49m\u001B[43myrav\u001B[49m\u001B[43m[\u001B[49m\u001B[43mmask\u001B[49m\u001B[43m]\u001B[49m\u001B[43m)\u001B[49m\n\u001B[32m    165\u001B[39m \u001B[38;5;28;01melse\u001B[39;00m:\n\u001B[32m    166\u001B[39m     \u001B[38;5;28;01mif\u001B[39;00m \u001B[38;5;129;01mnot\u001B[39;00m is_scalar(y):\n",
      "\u001B[31mTypeError\u001B[39m: unsupported operand type(s) for /: 'float' and 'decimal.Decimal'"
     ]
    }
   ],
   "execution_count": 4
  },
  {
   "cell_type": "code",
   "id": "73db53e6a775ce3f",
   "metadata": {},
   "source": [
    "# === Compute expected returns (mu) ===\n",
    "mu: np.ndarray = var_returns.mean().values.reshape(-1, 1)\n",
    "print(mu)"
   ],
   "outputs": [],
   "execution_count": null
  },
  {
   "cell_type": "code",
   "id": "a2d19114648b9f5d",
   "metadata": {},
   "source": [
    "# === Compute covariance matrix (sigma) ===\n",
    "sigma: np.ndarray = var_returns.cov().values\n",
    "print(sigma)"
   ],
   "outputs": [],
   "execution_count": null
  },
  {
   "cell_type": "code",
   "id": "f6b437ba63f32acd",
   "metadata": {},
   "source": [
    "# === Normalize alpha scores ===\n",
    "raw_scores = np.array([solver.stock_weights[stock].alpha_score for stock in stock_list])\n",
    "normalized_scores = raw_scores / np.sum(raw_scores)\n",
    "alpha_scores = normalized_scores.reshape(-1, 1)\n",
    "print(alpha_scores)"
   ],
   "outputs": [],
   "execution_count": null
  },
  {
   "cell_type": "code",
   "id": "95162a7e4555abb8",
   "metadata": {},
   "source": [
    "# === Optimization ===\n",
    "p = matrix(solver.config.risk_aversion * sigma)\n",
    "q = matrix(-mu - alpha_scores)\n",
    "\n",
    "g = -np.eye(stock_count)\n",
    "h = np.zeros(stock_count)\n",
    "\n",
    "a = matrix(np.ones((1, stock_count)))\n",
    "b = matrix(np.ones(1))"
   ],
   "outputs": [],
   "execution_count": null
  },
  {
   "cell_type": "code",
   "id": "fdfdd00e19bb24cb",
   "metadata": {},
   "source": [
    "sol = solvers.qp(p, q, G=matrix(g), h=matrix(h), A=a, b=b)\n",
    "weights = np.array(sol['x']).flatten()"
   ],
   "outputs": [],
   "execution_count": null
  },
  {
   "cell_type": "code",
   "id": "6e39198cb97db2e9",
   "metadata": {},
   "source": [
    "# === Build Portfolio ===\n",
    "metadata = {\n",
    "    stock: Portfolio.StockMetadata(weight, solver.stock_weights[stock].alpha_score)\n",
    "    for stock, weight in zip(stock_list, weights)\n",
    "}\n",
    "\n",
    "df = pd.DataFrame({\n",
    "    stock.ticker: {'Weight': md.weight, 'Alpha Score': md.alpha_score}\n",
    "    for stock, md in metadata.items()\n",
    "}).T  # Transpose for nicer layout\n",
    "\n",
    "display(df)"
   ],
   "outputs": [],
   "execution_count": null
  }
 ],
 "metadata": {
  "kernelspec": {
   "display_name": "Python 3",
   "language": "python",
   "name": "python3"
  },
  "language_info": {
   "codemirror_mode": {
    "name": "ipython",
    "version": 2
   },
   "file_extension": ".py",
   "mimetype": "text/x-python",
   "name": "python",
   "nbconvert_exporter": "python",
   "pygments_lexer": "ipython2",
   "version": "2.7.6"
  }
 },
 "nbformat": 4,
 "nbformat_minor": 5
}

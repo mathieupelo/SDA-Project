{
 "cells": [
  {
   "cell_type": "code",
   "execution_count": 12,
   "metadata": {},
   "outputs": [],
   "source": [
    "import yfinance as yf\n",
    "import numpy as np\n",
    "import pandas as pd\n",
    "import matplotlib.pyplot as plt\n",
    "from cvxopt import matrix, solvers"
   ]
  },
  {
   "cell_type": "code",
   "execution_count": 13,
   "metadata": {},
   "outputs": [
    {
     "name": "stderr",
     "output_type": "stream",
     "text": [
      "[*********************100%***********************]  5 of 5 completed\n"
     ]
    }
   ],
   "source": [
    "# Step 1: Download historical stock data\n",
    "tickers = ['AAPL', 'MSFT', 'TSLA', 'AMZN', 'GOOG']\n",
    "data = yf.download(tickers, start='2020-01-01', end='2023-01-01')\n",
    "\n",
    "# Step 2: Calculate daily returns\n",
    "returns = data['Close'].pct_change().dropna()"
   ]
  },
  {
   "cell_type": "code",
   "execution_count": 14,
   "metadata": {},
   "outputs": [
    {
     "name": "stdout",
     "output_type": "stream",
     "text": [
      "Ticker          AAPL      AMZN      GOOG      MSFT      TSLA\n",
      "Date                                                        \n",
      "2020-01-03 -0.009722 -0.012139 -0.004907 -0.012452  0.029633\n",
      "2020-01-06  0.007968  0.014886  0.024657  0.002585  0.019255\n",
      "2020-01-07 -0.004703  0.002092 -0.000624 -0.009118  0.038801\n",
      "2020-01-08  0.016086 -0.007809  0.007880  0.015928  0.049205\n",
      "2020-01-09  0.021241  0.004799  0.011044  0.012493 -0.021945\n",
      "...              ...       ...       ...       ...       ...\n",
      "2022-12-23 -0.002798  0.017425  0.017562  0.002267 -0.017551\n",
      "2022-12-27 -0.013878 -0.025924 -0.020933 -0.007414 -0.114089\n",
      "2022-12-28 -0.030685 -0.014692 -0.016718 -0.010255  0.033089\n",
      "2022-12-29  0.028324  0.028844  0.028799  0.027630  0.080827\n",
      "2022-12-30  0.002469 -0.002138 -0.002473 -0.004937  0.011164\n",
      "\n",
      "[755 rows x 5 columns]\n"
     ]
    }
   ],
   "source": [
    "# Print the columns of the downloaded data\n",
    "print(returns)"
   ]
  },
  {
   "cell_type": "code",
   "execution_count": 15,
   "metadata": {},
   "outputs": [],
   "source": [
    "# Step 3: Calculate mean returns and covariance matrix\n",
    "mean_returns = returns.mean()\n",
    "cov_matrix = returns.cov()"
   ]
  },
  {
   "cell_type": "code",
   "execution_count": 16,
   "metadata": {},
   "outputs": [],
   "source": [
    "# Step 4: Implementing the Mean-Variance Optimization\n",
    "# Defining the optimization problem\n",
    "n_assets = len(tickers)\n",
    "\n",
    "# Convert mean returns and covariance matrix to cvxopt format\n",
    "mean_returns = np.array(mean_returns)\n",
    "cov_matrix = np.array(cov_matrix)\n",
    "\n",
    "# Covert data to cvxopt matrices\n",
    "P = matrix(cov_matrix)  # Covariance matrix\n",
    "q = matrix(np.zeros(n_assets))  # No linear term (we're not adding any risk-free asset)\n",
    "\n",
    "# Constraints: sum of weights = 1 (fully invested portfolio)\n",
    "G = matrix(-np.eye(n_assets))  # Negative identity matrix for weight constraints (all weights >= 0)\n",
    "h = matrix(np.zeros(n_assets))  # No short selling (weights >= 0)\n",
    "\n",
    "A = matrix(np.ones((1, n_assets)))  # Sum of weights constraint\n",
    "b = matrix(np.ones(1))  # The sum of weights must equal 1\n"
   ]
  },
  {
   "cell_type": "code",
   "execution_count": 17,
   "metadata": {},
   "outputs": [
    {
     "name": "stdout",
     "output_type": "stream",
     "text": [
      "[ 5.41e-04  3.80e-04  3.67e-04  4.13e-04  5.50e-04]\n",
      "[ 3.80e-04  6.06e-04  3.64e-04  3.78e-04  5.34e-04]\n",
      "[ 3.67e-04  3.64e-04  4.69e-04  3.91e-04  4.46e-04]\n",
      "[ 4.13e-04  3.78e-04  3.91e-04  4.79e-04  4.99e-04]\n",
      "[ 5.50e-04  5.34e-04  4.46e-04  4.99e-04  2.07e-03]\n",
      "\n"
     ]
    }
   ],
   "source": [
    "print(P)"
   ]
  },
  {
   "cell_type": "code",
   "execution_count": 18,
   "metadata": {},
   "outputs": [
    {
     "name": "stdout",
     "output_type": "stream",
     "text": [
      "     pcost       dcost       gap    pres   dres\n",
      " 0:  2.5602e-04 -9.9985e-01  1e+00  1e-16  3e+00\n",
      " 1:  2.5597e-04 -9.8486e-03  1e-02  1e-16  3e-02\n",
      " 2:  2.5176e-04  5.5152e-05  2e-04  1e-16  5e-04\n",
      " 3:  2.1899e-04  1.8885e-04  3e-05  6e-17  5e-05\n",
      " 4:  2.0858e-04  2.0516e-04  3e-06  7e-17  9e-20\n",
      " 5:  2.0672e-04  2.0653e-04  2e-07  2e-16  8e-20\n",
      " 6:  2.0655e-04  2.0655e-04  2e-09  2e-16  1e-19\n",
      "Optimal solution found.\n"
     ]
    }
   ],
   "source": [
    "# Solve the optimization problem\n",
    "sol = solvers.qp(P, q, G, h, A, b)\n",
    "\n",
    "# Extract portfolio weights\n",
    "weights = np.array(sol['x']).flatten()"
   ]
  },
  {
   "cell_type": "code",
   "execution_count": 19,
   "metadata": {},
   "outputs": [
    {
     "name": "stdout",
     "output_type": "stream",
     "text": [
      "Optimized Portfolio Weights:\n",
      "{'AAPL': np.float64(0.19229233697311035), 'MSFT': np.float64(0.17651423026156673), 'TSLA': np.float64(0.40473498378900896), 'AMZN': np.float64(0.22643418679558328), 'GOOG': np.float64(2.4262180730523584e-05)}\n"
     ]
    },
    {
     "data": {
      "image/png": "[encoded data removed]",
      "text/plain": [
       "<Figure size 1000x600 with 1 Axes>"
      ]
     },
     "metadata": {},
     "output_type": "display_data"
    }
   ],
   "source": [
    "# Step 5: Display results\n",
    "print(f\"Optimized Portfolio Weights:\\n{dict(zip(tickers, weights))}\")\n",
    "\n",
    "# Step 6: Plot the optimized portfolio\n",
    "plt.figure(figsize=(10,6))\n",
    "plt.bar(tickers, weights)\n",
    "plt.title(\"Optimized Portfolio Weights\")\n",
    "plt.ylabel(\"Weight\")\n",
    "plt.show()"
   ]
  },
  {
   "cell_type": "code",
   "execution_count": 20,
   "metadata": {},
   "outputs": [
    {
     "name": "stdout",
     "output_type": "stream",
     "text": [
      "Expected Annual Portfolio Return: 0.16\n",
      "Expected Annual Portfolio Volatility: 0.32\n"
     ]
    }
   ],
   "source": [
    "# Step 7: Calculate Portfolio Return and Risk\n",
    "portfolio_return = np.sum(weights * mean_returns) * 252  # Annualize the return (252 trading days)\n",
    "portfolio_volatility = np.sqrt(np.dot(weights.T, np.dot(cov_matrix, weights))) * np.sqrt(252)  # Annualize the volatility\n",
    "\n",
    "print(f\"Expected Annual Portfolio Return: {portfolio_return:.2f}\")\n",
    "print(f\"Expected Annual Portfolio Volatility: {portfolio_volatility:.2f}\")"
   ]
  }
 ],
 "metadata": {
  "kernelspec": {
   "display_name": ".venv",
   "language": "python",
   "name": "python3"
  },
  "language_info": {
   "codemirror_mode": {
    "name": "ipython",
    "version": 3
   },
   "file_extension": ".py",
   "mimetype": "text/x-python",
   "name": "python",
   "nbconvert_exporter": "python",
   "pygments_lexer": "ipython3",
   "version": "3.12.6"
  }
 },
 "nbformat": 4,
 "nbformat_minor": 2
}
